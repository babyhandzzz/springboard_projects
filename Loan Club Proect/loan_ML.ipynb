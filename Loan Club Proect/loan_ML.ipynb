{
 "cells": [
  {
   "cell_type": "code",
   "execution_count": 300,
   "metadata": {},
   "outputs": [
    {
     "name": "stdout",
     "output_type": "stream",
     "text": [
      "Using matplotlib backend: MacOSX\n"
     ]
    }
   ],
   "source": [
    "import pandas as pd\n",
    "import numpy as np\n",
    "from sklearn import preprocessing\n",
    "import matplotlib.pyplot as plt\n",
    "import seaborn as sns\n",
    "%matplotlib\n",
    "%matplotlib inline\n",
    "pd.options.mode.chained_assignment = None #set it to None to remove SettingWithCopyWarning\n",
    "pd.options.display.float_format = '{:.4f}'.format #set it to convert scientific noations such as 4.225108e+11 to 422510842796.00\n",
    "pd.set_option('display.max_columns', 100) # to display all the columns\n",
    "pd.set_option('display.max_rows', 500) # to display all the columns\n",
    "np.set_printoptions(suppress=True,formatter={'float_kind':'{:f}'.format})\n",
    "\n",
    "\n",
    "# https://scikit-learn.org/stable/modules/generated/sklearn.preprocessing.LabelEncoder.html#sklearn.preprocessing.LabelEncoder.fit\n",
    "# https://scikit-learn.org/stable/modules/generated/sklearn.preprocessing.MinMaxScaler.html\n"
   ]
  },
  {
   "cell_type": "markdown",
   "metadata": {},
   "source": [
    "# In this notebook a sample of the initial df is taken to make the notebook run faster. I think I will switch to PyCharm for the full-size df and training."
   ]
  },
  {
   "cell_type": "markdown",
   "metadata": {},
   "source": [
    "# Questions for Nishant:\n",
    "\n",
    "* I have dealt with categorical columns, they seem to be fine and label encoding works fine. The only as I understand is that the np matrix has to be transpposed after transformation, is that the case?\n",
    "\n",
    "* I have replaced nan values in numerical columns with the corresponding medians.\n",
    "\n",
    "* "
   ]
  },
  {
   "cell_type": "code",
   "execution_count": 4,
   "metadata": {},
   "outputs": [],
   "source": [
    "df = pd.read_csv('2nd_clean.csv')"
   ]
  },
  {
   "cell_type": "code",
   "execution_count": 244,
   "metadata": {},
   "outputs": [],
   "source": [
    "sampled_df = df.sample(100000)\n",
    "sampled_df.drop('Unnamed: 0',axis='columns',inplace=True)"
   ]
  },
  {
   "cell_type": "code",
   "execution_count": 245,
   "metadata": {},
   "outputs": [],
   "source": [
    "# dividing data into categorical and numerical\n",
    "categorical_df = sampled_df.select_dtypes(include=['object'])\n",
    "numerical = sampled_df.select_dtypes(exclude=['object'])"
   ]
  },
  {
   "cell_type": "code",
   "execution_count": 246,
   "metadata": {},
   "outputs": [],
   "source": [
    "list_of_columns = list(sampled_df.columns)"
   ]
  },
  {
   "cell_type": "markdown",
   "metadata": {},
   "source": [
    "# Cleaning the categorical data so LabelEncoder() could be used\n",
    "* working column by column\n",
    "* the end result has to be transposed in order to be useful"
   ]
  },
  {
   "cell_type": "code",
   "execution_count": 247,
   "metadata": {},
   "outputs": [
    {
     "data": {
      "text/html": [
       "<div>\n",
       "<style scoped>\n",
       "    .dataframe tbody tr th:only-of-type {\n",
       "        vertical-align: middle;\n",
       "    }\n",
       "\n",
       "    .dataframe tbody tr th {\n",
       "        vertical-align: top;\n",
       "    }\n",
       "\n",
       "    .dataframe thead th {\n",
       "        text-align: right;\n",
       "    }\n",
       "</style>\n",
       "<table border=\"1\" class=\"dataframe\">\n",
       "  <thead>\n",
       "    <tr style=\"text-align: right;\">\n",
       "      <th></th>\n",
       "      <th>term</th>\n",
       "      <th>grade</th>\n",
       "      <th>sub_grade</th>\n",
       "      <th>emp_title</th>\n",
       "      <th>emp_length</th>\n",
       "      <th>home_ownership</th>\n",
       "      <th>verification_status</th>\n",
       "      <th>issue_d</th>\n",
       "      <th>loan_status</th>\n",
       "      <th>pymnt_plan</th>\n",
       "      <th>purpose</th>\n",
       "      <th>title</th>\n",
       "      <th>addr_state</th>\n",
       "      <th>earliest_cr_line</th>\n",
       "      <th>initial_list_status</th>\n",
       "      <th>last_pymnt_d</th>\n",
       "      <th>last_credit_pull_d</th>\n",
       "      <th>application_type</th>\n",
       "      <th>hardship_flag</th>\n",
       "      <th>disbursement_method</th>\n",
       "      <th>debt_settlement_flag</th>\n",
       "    </tr>\n",
       "  </thead>\n",
       "  <tbody>\n",
       "    <tr>\n",
       "      <th>1866926</th>\n",
       "      <td>60 months</td>\n",
       "      <td>C</td>\n",
       "      <td>C4</td>\n",
       "      <td>Software Engineer</td>\n",
       "      <td>10+ years</td>\n",
       "      <td>RENT</td>\n",
       "      <td>Verified</td>\n",
       "      <td>Dec-2014</td>\n",
       "      <td>Fully Paid</td>\n",
       "      <td>n</td>\n",
       "      <td>debt_consolidation</td>\n",
       "      <td>Debt consolidation</td>\n",
       "      <td>GA</td>\n",
       "      <td>Feb-2001</td>\n",
       "      <td>w</td>\n",
       "      <td>Nov-2017</td>\n",
       "      <td>Dec-2017</td>\n",
       "      <td>Individual</td>\n",
       "      <td>N</td>\n",
       "      <td>Cash</td>\n",
       "      <td>N</td>\n",
       "    </tr>\n",
       "    <tr>\n",
       "      <th>203433</th>\n",
       "      <td>60 months</td>\n",
       "      <td>C</td>\n",
       "      <td>C2</td>\n",
       "      <td>Director of Construction</td>\n",
       "      <td>3 years</td>\n",
       "      <td>MORTGAGE</td>\n",
       "      <td>Not Verified</td>\n",
       "      <td>Aug-2018</td>\n",
       "      <td>Current</td>\n",
       "      <td>n</td>\n",
       "      <td>debt_consolidation</td>\n",
       "      <td>Debt consolidation</td>\n",
       "      <td>AZ</td>\n",
       "      <td>Sep-2003</td>\n",
       "      <td>w</td>\n",
       "      <td>Feb-2019</td>\n",
       "      <td>Feb-2019</td>\n",
       "      <td>Individual</td>\n",
       "      <td>N</td>\n",
       "      <td>Cash</td>\n",
       "      <td>N</td>\n",
       "    </tr>\n",
       "  </tbody>\n",
       "</table>\n",
       "</div>"
      ],
      "text/plain": [
       "               term grade sub_grade                 emp_title emp_length  \\\n",
       "1866926   60 months     C        C4         Software Engineer  10+ years   \n",
       "203433    60 months     C        C2  Director of Construction    3 years   \n",
       "\n",
       "        home_ownership verification_status   issue_d loan_status pymnt_plan  \\\n",
       "1866926           RENT            Verified  Dec-2014  Fully Paid          n   \n",
       "203433        MORTGAGE        Not Verified  Aug-2018     Current          n   \n",
       "\n",
       "                    purpose               title addr_state earliest_cr_line  \\\n",
       "1866926  debt_consolidation  Debt consolidation         GA         Feb-2001   \n",
       "203433   debt_consolidation  Debt consolidation         AZ         Sep-2003   \n",
       "\n",
       "        initial_list_status last_pymnt_d last_credit_pull_d application_type  \\\n",
       "1866926                   w     Nov-2017           Dec-2017       Individual   \n",
       "203433                    w     Feb-2019           Feb-2019       Individual   \n",
       "\n",
       "        hardship_flag disbursement_method debt_settlement_flag  \n",
       "1866926             N                Cash                    N  \n",
       "203433              N                Cash                    N  "
      ]
     },
     "execution_count": 247,
     "metadata": {},
     "output_type": "execute_result"
    }
   ],
   "source": [
    "categorical_df.head(2)"
   ]
  },
  {
   "cell_type": "code",
   "execution_count": 248,
   "metadata": {},
   "outputs": [],
   "source": [
    "def check_nan_and_categories(df_column):\n",
    "    \"\"\"\n",
    "    Print value_counts and count of nan\n",
    "    of a categotical feature.\n",
    "    \n",
    "    \"\"\"\n",
    "    value_counts = df_column.value_counts()\n",
    "    nans = df_column.isna().value_counts()\n",
    "    print(value_counts)\n",
    "    print('*************************')\n",
    "    print(nans) "
   ]
  },
  {
   "cell_type": "code",
   "execution_count": 249,
   "metadata": {},
   "outputs": [],
   "source": [
    "# emp_title\n",
    "categorical_df.emp_title.fillna('other',inplace=True)\n",
    "\n",
    "#emp_length\n",
    "categorical_df.emp_length.fillna('other',inplace=True)\n",
    "\n",
    "# title\n",
    "categorical_df.title.fillna('other',inplace=True)\n",
    "\n",
    "# last_pymnt_d\n",
    "categorical_df.last_pymnt_d.fillna('other',inplace=True)\n",
    "\n",
    "# last_credit_pull_d\n",
    "categorical_df.last_credit_pull_d.fillna('other',inplace=True)"
   ]
  },
  {
   "cell_type": "code",
   "execution_count": 250,
   "metadata": {},
   "outputs": [],
   "source": [
    "emp_lengthdict = {'10+ years':'ten years or more', \n",
    " '2 years':'two years', \n",
    " '< 1 year':'less than a year', \n",
    " '3 years':'three years', \n",
    " 'other':'other', \n",
    " '1 year':'one year',\n",
    " '5 years':'five years', \n",
    " '4 years':'four years', \n",
    " '6 years':'six years', \n",
    " '7 years':'seven years', \n",
    " '8 years':'eight years', \n",
    " '9 years':'nine years'}\n",
    "\n",
    "categorical_df.emp_length.replace(emp_lengthdict,inplace=True)"
   ]
  },
  {
   "cell_type": "code",
   "execution_count": 258,
   "metadata": {},
   "outputs": [],
   "source": [
    "c_fields = categorical_df.columns\n",
    "les = [preprocessing.LabelEncoder().fit(categorical_df[field].values) for field in c_fields]\n",
    "# Transpose cat_transformed before any further procedures\n",
    "cat_transformed = np.array([le.transform(categorical_df[field]) for field,le in zip(c_fields,les)])"
   ]
  },
  {
   "cell_type": "markdown",
   "metadata": {},
   "source": [
    "# Working with numerical columns\n",
    "\n",
    "* #1 thing is to deal with nans\n",
    "* #2 thing is to deal with outliers"
   ]
  },
  {
   "cell_type": "code",
   "execution_count": 309,
   "metadata": {},
   "outputs": [
    {
     "data": {
      "image/png": "[encoded data removed]",
      "text/plain": [
       "<Figure size 1440x288 with 1 Axes>"
      ]
     },
     "metadata": {
      "needs_background": "light"
     },
     "output_type": "display_data"
    },
    {
     "data": {
      "text/plain": [
       "\"\\nIt's important to reiterate that this df is only sample\\nand only has 100k obseravtions\\n\\n\""
      ]
     },
     "execution_count": 309,
     "metadata": {},
     "output_type": "execute_result"
    }
   ],
   "source": [
    "NA_col = numerical.isnull().sum()\n",
    "NA_col = NA_col[NA_col.values >0]\n",
    "plt.figure(figsize=(20,4))\n",
    "NA_col.plot(kind='bar')\n",
    "plt.title('List of columns with NAs and their counts')\n",
    "plt.show()\n",
    "\n",
    "\n",
    "\"\"\"\n",
    "It's important to reiterate that this df is only a sample\n",
    "and only has 100k obseravtions.\n",
    "\n",
    "\"\"\"\n"
   ]
  },
  {
   "cell_type": "code",
   "execution_count": 365,
   "metadata": {},
   "outputs": [],
   "source": [
    "def impute_numerical_data(num_df):\n",
    "    \"\"\"\n",
    "    impute all nan values in a numerical\n",
    "    columns with the median of a corresponding\n",
    "    column.\n",
    "    \n",
    "    \"\"\"\n",
    "    NA_col = num_df.isnull().sum()\n",
    "    NA_col = NA_col[NA_col>0].index\n",
    "    \n",
    "    for column in num_df[NA_col].columns:\n",
    "        num_df[column].fillna(num_df[column].median(),inplace=True)\n",
    "\n",
    "    return num_df\n",
    "\n",
    "numerical_no_nan = impute_numerical_data(numerical)"
   ]
  }
 ],
 "metadata": {
  "kernelspec": {
   "display_name": "Python 3",
   "language": "python",
   "name": "python3"
  },
  "language_info": {
   "codemirror_mode": {
    "name": "ipython",
    "version": 3
   },
   "file_extension": ".py",
   "mimetype": "text/x-python",
   "name": "python",
   "nbconvert_exporter": "python",
   "pygments_lexer": "ipython3",
   "version": "3.7.5"
  }
 },
 "nbformat": 4,
 "nbformat_minor": 4
}
