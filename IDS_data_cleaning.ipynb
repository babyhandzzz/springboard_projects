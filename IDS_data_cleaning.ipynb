{
 "cells": [
  {
   "cell_type": "code",
   "execution_count": 115,
   "metadata": {},
   "outputs": [],
   "source": [
    "import pandas as pd\n",
    "import numpy as np\n",
    "import re\n",
    "import ephem # astronomy module to get the constellations for zodiac sign\n",
    "pd.set_option('display.max_columns', 100)\n",
    "import matplotlib.pyplot as plt"
   ]
  },
  {
   "cell_type": "code",
   "execution_count": 2,
   "metadata": {},
   "outputs": [
    {
     "data": {
      "text/html": [
       "<div>\n",
       "<style scoped>\n",
       "    .dataframe tbody tr th:only-of-type {\n",
       "        vertical-align: middle;\n",
       "    }\n",
       "\n",
       "    .dataframe tbody tr th {\n",
       "        vertical-align: top;\n",
       "    }\n",
       "\n",
       "    .dataframe thead th {\n",
       "        text-align: right;\n",
       "    }\n",
       "</style>\n",
       "<table border=\"1\" class=\"dataframe\">\n",
       "  <thead>\n",
       "    <tr style=\"text-align: right;\">\n",
       "      <th></th>\n",
       "      <th>#</th>\n",
       "      <th>Gender</th>\n",
       "      <th>Height</th>\n",
       "      <th>Weight</th>\n",
       "      <th>DOB</th>\n",
       "      <th>Age</th>\n",
       "      <th>Sun_Sign</th>\n",
       "      <th>CGPA</th>\n",
       "      <th>Programming_Rate</th>\n",
       "      <th>Preferred_Lang</th>\n",
       "      <th>Sim_Course</th>\n",
       "      <th>Focus</th>\n",
       "      <th>DS_Same_As_DA</th>\n",
       "      <th>Mean</th>\n",
       "      <th>Median</th>\n",
       "      <th>Sleeping_Time</th>\n",
       "      <th>Sleep_Duration</th>\n",
       "      <th>Like_Maths</th>\n",
       "      <th>Engg_First_Choice</th>\n",
       "      <th>Inst_Choice</th>\n",
       "      <th>Physical_Activity</th>\n",
       "    </tr>\n",
       "  </thead>\n",
       "  <tbody>\n",
       "    <tr>\n",
       "      <th>0</th>\n",
       "      <td>1</td>\n",
       "      <td>Female</td>\n",
       "      <td>5'3</td>\n",
       "      <td>74</td>\n",
       "      <td>7/30/2000</td>\n",
       "      <td>19.0</td>\n",
       "      <td>Aquarius</td>\n",
       "      <td>8.29</td>\n",
       "      <td>3</td>\n",
       "      <td>C++</td>\n",
       "      <td>No</td>\n",
       "      <td>Data</td>\n",
       "      <td>No</td>\n",
       "      <td>6.0</td>\n",
       "      <td>8</td>\n",
       "      <td>11:00:00 PM</td>\n",
       "      <td>5</td>\n",
       "      <td>Yes</td>\n",
       "      <td>Yes</td>\n",
       "      <td>Doesn't matter</td>\n",
       "      <td>On daily basis</td>\n",
       "    </tr>\n",
       "    <tr>\n",
       "      <th>1</th>\n",
       "      <td>2</td>\n",
       "      <td>Male</td>\n",
       "      <td>176</td>\n",
       "      <td>62</td>\n",
       "      <td>6/4/2000</td>\n",
       "      <td>19.0</td>\n",
       "      <td>Gemini</td>\n",
       "      <td>8.27</td>\n",
       "      <td>4</td>\n",
       "      <td>C</td>\n",
       "      <td>No</td>\n",
       "      <td>Data</td>\n",
       "      <td>May be</td>\n",
       "      <td>6.0</td>\n",
       "      <td>9</td>\n",
       "      <td>1:00:00 AM</td>\n",
       "      <td>6.5</td>\n",
       "      <td>No</td>\n",
       "      <td>Yes</td>\n",
       "      <td>Doesn't matter</td>\n",
       "      <td>Once in a week</td>\n",
       "    </tr>\n",
       "    <tr>\n",
       "      <th>2</th>\n",
       "      <td>3</td>\n",
       "      <td>Male</td>\n",
       "      <td>176</td>\n",
       "      <td>62</td>\n",
       "      <td>6/4/2000</td>\n",
       "      <td>19.0</td>\n",
       "      <td>Gemini</td>\n",
       "      <td>8.27</td>\n",
       "      <td>4</td>\n",
       "      <td>C</td>\n",
       "      <td>No</td>\n",
       "      <td>Data</td>\n",
       "      <td>May be</td>\n",
       "      <td>6.0</td>\n",
       "      <td>9</td>\n",
       "      <td>1:00:00 AM</td>\n",
       "      <td>6.5</td>\n",
       "      <td>No</td>\n",
       "      <td>Yes</td>\n",
       "      <td>Doesn't matter</td>\n",
       "      <td>Once in a week</td>\n",
       "    </tr>\n",
       "    <tr>\n",
       "      <th>3</th>\n",
       "      <td>4</td>\n",
       "      <td>Female</td>\n",
       "      <td>145</td>\n",
       "      <td>60</td>\n",
       "      <td>2/21/2000</td>\n",
       "      <td>18.0</td>\n",
       "      <td>Don't Know</td>\n",
       "      <td>9.21</td>\n",
       "      <td>3</td>\n",
       "      <td>Python</td>\n",
       "      <td>No</td>\n",
       "      <td>Data</td>\n",
       "      <td>No</td>\n",
       "      <td>6.0</td>\n",
       "      <td>9</td>\n",
       "      <td>11:00:00 AM</td>\n",
       "      <td>6</td>\n",
       "      <td>Yes</td>\n",
       "      <td>Yes</td>\n",
       "      <td>Doesn't matter</td>\n",
       "      <td>Once in a week</td>\n",
       "    </tr>\n",
       "    <tr>\n",
       "      <th>4</th>\n",
       "      <td>5</td>\n",
       "      <td>Male</td>\n",
       "      <td>185</td>\n",
       "      <td>56</td>\n",
       "      <td>8/15/2000</td>\n",
       "      <td>19.0</td>\n",
       "      <td>Leo</td>\n",
       "      <td>8.46</td>\n",
       "      <td>4</td>\n",
       "      <td>C</td>\n",
       "      <td>No</td>\n",
       "      <td>Data</td>\n",
       "      <td>No</td>\n",
       "      <td>6.0</td>\n",
       "      <td>8</td>\n",
       "      <td>11:30:00 PM</td>\n",
       "      <td>8</td>\n",
       "      <td>Yes</td>\n",
       "      <td>Yes</td>\n",
       "      <td>Doesn't matter</td>\n",
       "      <td>Once in a week</td>\n",
       "    </tr>\n",
       "  </tbody>\n",
       "</table>\n",
       "</div>"
      ],
      "text/plain": [
       "   #  Gender Height Weight        DOB   Age    Sun_Sign  CGPA  \\\n",
       "0  1  Female    5'3     74  7/30/2000  19.0    Aquarius  8.29   \n",
       "1  2    Male    176     62   6/4/2000  19.0      Gemini  8.27   \n",
       "2  3    Male    176     62   6/4/2000  19.0      Gemini  8.27   \n",
       "3  4  Female    145     60  2/21/2000  18.0  Don't Know  9.21   \n",
       "4  5    Male    185     56  8/15/2000  19.0         Leo  8.46   \n",
       "\n",
       "   Programming_Rate Preferred_Lang Sim_Course Focus DS_Same_As_DA  Mean  \\\n",
       "0                 3            C++         No  Data            No   6.0   \n",
       "1                 4              C         No  Data        May be   6.0   \n",
       "2                 4              C         No  Data        May be   6.0   \n",
       "3                 3         Python         No  Data            No   6.0   \n",
       "4                 4              C         No  Data            No   6.0   \n",
       "\n",
       "  Median Sleeping_Time Sleep_Duration Like_Maths Engg_First_Choice  \\\n",
       "0      8   11:00:00 PM              5        Yes               Yes   \n",
       "1      9    1:00:00 AM            6.5         No               Yes   \n",
       "2      9    1:00:00 AM            6.5         No               Yes   \n",
       "3      9   11:00:00 AM              6        Yes               Yes   \n",
       "4      8   11:30:00 PM              8        Yes               Yes   \n",
       "\n",
       "      Inst_Choice Physical_Activity  \n",
       "0  Doesn't matter    On daily basis  \n",
       "1  Doesn't matter    Once in a week  \n",
       "2  Doesn't matter    Once in a week  \n",
       "3  Doesn't matter    Once in a week  \n",
       "4  Doesn't matter    Once in a week  "
      ]
     },
     "execution_count": 2,
     "metadata": {},
     "output_type": "execute_result"
    }
   ],
   "source": [
    "df = pd.read_csv('IDS.csv')\n",
    "df.head()"
   ]
  },
  {
   "cell_type": "code",
   "execution_count": 3,
   "metadata": {},
   "outputs": [
    {
     "data": {
      "text/plain": [
       "'for row in df.iterrows():\\n    print(row[1])'"
      ]
     },
     "execution_count": 3,
     "metadata": {},
     "output_type": "execute_result"
    }
   ],
   "source": [
    "# initial visual inspection (~300 obseravtions, not too much)\n",
    "\"\"\"for row in df.iterrows():\n",
    "    print(row[1])\"\"\""
   ]
  },
  {
   "cell_type": "markdown",
   "metadata": {},
   "source": [
    "# Cleaning Gender"
   ]
  },
  {
   "cell_type": "code",
   "execution_count": 4,
   "metadata": {},
   "outputs": [
    {
     "data": {
      "text/plain": [
       "Male      222\n",
       "Female     88\n",
       "Name: Gender, dtype: int64"
      ]
     },
     "execution_count": 4,
     "metadata": {},
     "output_type": "execute_result"
    }
   ],
   "source": [
    "# Gender feature is OK\n",
    "df.Gender.value_counts()"
   ]
  },
  {
   "cell_type": "markdown",
   "metadata": {},
   "source": [
    "# Cleaning Height"
   ]
  },
  {
   "cell_type": "code",
   "execution_count": 5,
   "metadata": {},
   "outputs": [],
   "source": [
    "# pd.to_numeric didn't quite work so:\n",
    "\n",
    "# isolate cases with \",\" and '.' and replace them with \".\" else convert to numeric\n",
    "df.Height = [i[:1]+\".\"+i[2] if not i.isnumeric() else i for i in df['Height']]\n",
    "# convert string objects to numeric values floats since the first operation\n",
    "# requrired leaving hright in feet\n",
    "df.Height = pd.to_numeric(df.Height, errors='coerce',downcast='float')\n",
    "# convert feet to inches\n",
    "df.Height = [i*30.48 if i<100 else i for i in df['Height']]\n",
    "# drop the incorrect values (too short)\n",
    "df = df[df.Height > 100]\n",
    "# drop height values below 100cm\n",
    "df.Height = [int(i) for i in df.Height]\n",
    "\n",
    "df.reset_index(drop=True, inplace=True)"
   ]
  },
  {
   "cell_type": "markdown",
   "metadata": {},
   "source": [
    "# Cleaning Weight"
   ]
  },
  {
   "cell_type": "code",
   "execution_count": 6,
   "metadata": {},
   "outputs": [],
   "source": [
    "# cutting string to only contain digits while leaving floats as they are\n",
    "weight = [i if type(i) == float else i[:2] for i in df.Weight]\n",
    "# converting type to numeric\n",
    "df.Weight = pd.to_numeric(weight, errors='coerce', downcast='integer')\n",
    "# too few nans, since there is no great variation in values \n",
    "#'backfill' is used\n",
    "df.Weight.fillna(method='backfill',inplace=True)\n",
    "# There is no need in containing floats as there are no values after decimals\n",
    "df.Weight = [int(i) for i in df.Weight]\n",
    "\n",
    "df.reset_index(drop=True, inplace=True)"
   ]
  },
  {
   "cell_type": "markdown",
   "metadata": {},
   "source": [
    "# Cleaning DOB"
   ]
  },
  {
   "cell_type": "code",
   "execution_count": 7,
   "metadata": {},
   "outputs": [],
   "source": [
    "df.DOB = pd.to_datetime(df.DOB)"
   ]
  },
  {
   "cell_type": "markdown",
   "metadata": {},
   "source": [
    "# Cleaning Age"
   ]
  },
  {
   "cell_type": "code",
   "execution_count": 8,
   "metadata": {},
   "outputs": [
    {
     "data": {
      "text/plain": [
       "False    276\n",
       "True       2\n",
       "Name: Age, dtype: int64"
      ]
     },
     "execution_count": 8,
     "metadata": {},
     "output_type": "execute_result"
    }
   ],
   "source": [
    "# it looks like the age is recorder in 2019 since those who were born in\n",
    "# 2000 are all 19.\n",
    "\n",
    "# there are 2 nan values, it's an arbitrary decision but I decided to \n",
    "# update the age using the cuurent dat while I was completing this \n",
    "# assignment\n",
    "df.Age.isna().value_counts()"
   ]
  },
  {
   "cell_type": "code",
   "execution_count": 9,
   "metadata": {},
   "outputs": [],
   "source": [
    "now = pd.to_datetime('now')\n",
    "df.Age = (now - df['DOB']).astype('<m8[Y]') \n",
    "df.Age.value_counts()\n",
    "# it looks like some folks are too young to be on this database,\n",
    "# dropping anyone who is younger than 10\n",
    "df = df[df.Age > 10]\n",
    "# converting age to integers\n",
    "df.Age = [int(i) for i in df.Age]\n",
    "df.Age.value_counts()\n",
    "df.reset_index(drop=True, inplace=True)"
   ]
  },
  {
   "cell_type": "markdown",
   "metadata": {},
   "source": [
    "# Cleaning Sun_Sign"
   ]
  },
  {
   "cell_type": "code",
   "execution_count": 10,
   "metadata": {},
   "outputs": [
    {
     "data": {
      "text/plain": [
       "Scorpio        27\n",
       "Virgo          26\n",
       "Capricorn      24\n",
       "Gemini         22\n",
       "Aquarius       22\n",
       "Leo            21\n",
       "Aries          20\n",
       "Libra          20\n",
       "Cancer         19\n",
       "Sagittarius    17\n",
       "Pisces         16\n",
       "Taurus         15\n",
       "Don't Know     10\n",
       "Name: Sun_Sign, dtype: int64"
      ]
     },
     "execution_count": 10,
     "metadata": {},
     "output_type": "execute_result"
    }
   ],
   "source": [
    "# there are 10 \"Don't Know values\", astronomical module ephen was used to\n",
    "# return the constallation through which the Sun was passing on \n",
    "# the day of birth. This sollution is suboptimal as there is a mismatch\n",
    "# between the constellations and the signs used in Astology:\n",
    "#https://en.wikipedia.org/wiki/Zodiac#Table_of_dates\n",
    "# There is an additional issue since it seems to be there are actually 13\n",
    "# constellations and not 12.\n",
    "\n",
    "# the next step here is to fix the mismatching, although it will actually\n",
    "# be detremental to the iintegrity of calculations\n",
    "\n",
    "# my alternative idea was to use a dictionary with dateranges but \n",
    "# looks like it's a very tricky thing to use date ranges as key values \n",
    "# of a dict.\n",
    "\n",
    "df.Sun_Sign.value_counts()"
   ]
  },
  {
   "cell_type": "code",
   "execution_count": 11,
   "metadata": {},
   "outputs": [
    {
     "data": {
      "text/plain": [
       "Taurus         33\n",
       "Virgo          32\n",
       "Leo            28\n",
       "Pisces         27\n",
       "Gemini         26\n",
       "Sagittarius    23\n",
       "Capricornus    18\n",
       "Cancer         16\n",
       "Aquarius       15\n",
       "Libra          13\n",
       "Scorpius       10\n",
       "Aries           9\n",
       "Ophiuchus       9\n",
       "Name: Sun_Sign, dtype: int64"
      ]
     },
     "execution_count": 11,
     "metadata": {},
     "output_type": "execute_result"
    }
   ],
   "source": [
    "def zodiac_sign(date):\n",
    "    \"\"\"Returns the constellation through which the Sun was passing\n",
    "    for a given date.\"\"\"\n",
    "    sun = ephem.Sun()\n",
    "    sun.compute(date)\n",
    "    return(ephem.constellation(sun)[1])\n",
    "\n",
    "\n",
    "df.Sun_Sign = df.DOB.apply(zodiac_sign)\n",
    "df.reset_index(drop=True, inplace=True)\n",
    "df.Sun_Sign.value_counts()"
   ]
  },
  {
   "cell_type": "markdown",
   "metadata": {},
   "source": [
    "# Cleaning CGPA"
   ]
  },
  {
   "cell_type": "code",
   "execution_count": 12,
   "metadata": {},
   "outputs": [
    {
     "data": {
      "image/png": "[encoded data removed]",
      "text/plain": [
       "<Figure size 432x288 with 1 Axes>"
      ]
     },
     "metadata": {
      "needs_background": "light"
     },
     "output_type": "display_data"
    }
   ],
   "source": [
    "# The minimal reading for CGPA is being 4.0, it's suspicious  \n",
    "# because it's an outlier and because it has no decimal points\n",
    "# so it is replaced with the mode value.\n",
    "\n",
    "df.CGPA.plot.hist()\n",
    "plt.title('CGPA score')\n",
    "plt.show()"
   ]
  },
  {
   "cell_type": "code",
   "execution_count": 13,
   "metadata": {},
   "outputs": [],
   "source": [
    "df[df.CGPA < 5] =  int(df.CGPA.mode())\n",
    "df.reset_index(drop=True, inplace=True)"
   ]
  },
  {
   "cell_type": "markdown",
   "metadata": {},
   "source": [
    "# Cleaning Programming_Rate"
   ]
  },
  {
   "cell_type": "code",
   "execution_count": 14,
   "metadata": {},
   "outputs": [
    {
     "data": {
      "text/plain": [
       "count    259.000000\n",
       "mean       3.173745\n",
       "std        0.856307\n",
       "min        1.000000\n",
       "25%        3.000000\n",
       "50%        3.000000\n",
       "75%        4.000000\n",
       "max        8.000000\n",
       "Name: Programming_Rate, dtype: float64"
      ]
     },
     "execution_count": 14,
     "metadata": {},
     "output_type": "execute_result"
    }
   ],
   "source": [
    "df.Programming_Rate.describe()"
   ]
  },
  {
   "cell_type": "code",
   "execution_count": 15,
   "metadata": {},
   "outputs": [
    {
     "data": {
      "image/png": "[encoded data removed]",
      "text/plain": [
       "<Figure size 432x288 with 1 Axes>"
      ]
     },
     "metadata": {
      "needs_background": "light"
     },
     "output_type": "display_data"
    }
   ],
   "source": [
    "df.Programming_Rate.plot.hist()\n",
    "plt.title(\"Programming_Rate\")\n",
    "plt.show()"
   ]
  },
  {
   "cell_type": "code",
   "execution_count": 16,
   "metadata": {},
   "outputs": [
    {
     "data": {
      "text/plain": [
       "3    140\n",
       "4     72\n",
       "2     28\n",
       "1     10\n",
       "5      8\n",
       "8      1\n",
       "Name: Programming_Rate, dtype: int64"
      ]
     },
     "execution_count": 16,
     "metadata": {},
     "output_type": "execute_result"
    }
   ],
   "source": [
    "# it looks like there are 2 distinct kinds of programmers\n",
    "# the range of Programming_Rate for the 1st group is between 1 and 3\n",
    "# while the second group is centered around 4 and 5.\n",
    "# 8 is clearly an oulier here, so I am dropping this obseravtion.\n",
    "# it also turned to be a bad raw as ALL the values for all the features \n",
    "# are 8.\n",
    "df.Programming_Rate.value_counts()"
   ]
  },
  {
   "cell_type": "code",
   "execution_count": 17,
   "metadata": {},
   "outputs": [],
   "source": [
    "df.reset_index(drop=True, inplace=True)\n",
    "df[df['Programming_Rate']>7]\n",
    "df.reset_index(drop=True, inplace=True)"
   ]
  },
  {
   "cell_type": "code",
   "execution_count": 18,
   "metadata": {},
   "outputs": [],
   "source": [
    "df = df[df['Programming_Rate']<7]\n",
    "df.reset_index(drop=True, inplace=True)"
   ]
  },
  {
   "cell_type": "markdown",
   "metadata": {},
   "source": [
    "# Cleaning Preferred_Lang"
   ]
  },
  {
   "cell_type": "code",
   "execution_count": 19,
   "metadata": {},
   "outputs": [
    {
     "data": {
      "text/plain": [
       "C         112\n",
       "Python     96\n",
       "C++        39\n",
       "Java       10\n",
       "R           1\n",
       "Name: Preferred_Lang, dtype: int64"
      ]
     },
     "execution_count": 19,
     "metadata": {},
     "output_type": "execute_result"
    }
   ],
   "source": [
    "# no cleaning required\n",
    "df.Preferred_Lang.value_counts()"
   ]
  },
  {
   "cell_type": "markdown",
   "metadata": {},
   "source": [
    "# Cleaning Sim_Course"
   ]
  },
  {
   "cell_type": "code",
   "execution_count": 20,
   "metadata": {},
   "outputs": [
    {
     "data": {
      "text/plain": [
       "No     200\n",
       "Yes     58\n",
       "Name: Sim_Course, dtype: int64"
      ]
     },
     "execution_count": 20,
     "metadata": {},
     "output_type": "execute_result"
    }
   ],
   "source": [
    "# no cleaning required\n",
    "df.Sim_Course.value_counts()"
   ]
  },
  {
   "cell_type": "markdown",
   "metadata": {},
   "source": [
    "# Cleaning 'Focus'"
   ]
  },
  {
   "cell_type": "code",
   "execution_count": 21,
   "metadata": {},
   "outputs": [
    {
     "data": {
      "text/plain": [
       "Data       202\n",
       "Science     56\n",
       "Name: Focus, dtype: int64"
      ]
     },
     "execution_count": 21,
     "metadata": {},
     "output_type": "execute_result"
    }
   ],
   "source": [
    "# no cleaning required\n",
    "df.Focus.value_counts()"
   ]
  },
  {
   "cell_type": "markdown",
   "metadata": {},
   "source": [
    "# Cleaning DS_Same_As_DA"
   ]
  },
  {
   "cell_type": "code",
   "execution_count": 22,
   "metadata": {},
   "outputs": [
    {
     "data": {
      "text/plain": [
       "May be    135\n",
       "No        113\n",
       "Yes        10\n",
       "Name: DS_Same_As_DA, dtype: int64"
      ]
     },
     "execution_count": 22,
     "metadata": {},
     "output_type": "execute_result"
    }
   ],
   "source": [
    "# Changing 'May be' to 'Maybe'\n",
    "df.DS_Same_As_DA.value_counts()"
   ]
  },
  {
   "cell_type": "code",
   "execution_count": 27,
   "metadata": {},
   "outputs": [],
   "source": [
    "df.DS_Same_As_DA.replace('May be','Maybe', inplace=True)"
   ]
  },
  {
   "cell_type": "markdown",
   "metadata": {},
   "source": [
    "# Cleaning Mean"
   ]
  },
  {
   "cell_type": "code",
   "execution_count": null,
   "metadata": {},
   "outputs": [],
   "source": [
    "# There are 2 outliers wuith values equal 30. It's not clear what the \n",
    "# feature Mean represents, so I'm keeping it as it is.\n",
    "for i in df['Mean']:\n",
    "    print(i)"
   ]
  },
  {
   "cell_type": "code",
   "execution_count": 41,
   "metadata": {},
   "outputs": [
    {
     "data": {
      "image/png": "[encoded data removed]",
      "text/plain": [
       "<Figure size 432x288 with 1 Axes>"
      ]
     },
     "metadata": {
      "needs_background": "light"
     },
     "output_type": "display_data"
    }
   ],
   "source": [
    "df['Mean'].plot.hist()\n",
    "plt.show()"
   ]
  },
  {
   "cell_type": "code",
   "execution_count": 39,
   "metadata": {},
   "outputs": [
    {
     "data": {
      "text/plain": [
       "6.0     221\n",
       "15.0     18\n",
       "8.0       3\n",
       "5.0       2\n",
       "3.0       2\n",
       "30.0      2\n",
       "9.0       2\n",
       "5.6       1\n",
       "11.0      1\n",
       "4.0       1\n",
       "7.5       1\n",
       "10.0      1\n",
       "Name: Mean, dtype: int64"
      ]
     },
     "execution_count": 39,
     "metadata": {},
     "output_type": "execute_result"
    }
   ],
   "source": [
    "df['Mean'].value_counts()"
   ]
  },
  {
   "cell_type": "code",
   "execution_count": 40,
   "metadata": {},
   "outputs": [
    {
     "data": {
      "text/html": [
       "<div>\n",
       "<style scoped>\n",
       "    .dataframe tbody tr th:only-of-type {\n",
       "        vertical-align: middle;\n",
       "    }\n",
       "\n",
       "    .dataframe tbody tr th {\n",
       "        vertical-align: top;\n",
       "    }\n",
       "\n",
       "    .dataframe thead th {\n",
       "        text-align: right;\n",
       "    }\n",
       "</style>\n",
       "<table border=\"1\" class=\"dataframe\">\n",
       "  <thead>\n",
       "    <tr style=\"text-align: right;\">\n",
       "      <th></th>\n",
       "      <th>#</th>\n",
       "      <th>Gender</th>\n",
       "      <th>Height</th>\n",
       "      <th>Weight</th>\n",
       "      <th>DOB</th>\n",
       "      <th>Age</th>\n",
       "      <th>Sun_Sign</th>\n",
       "      <th>CGPA</th>\n",
       "      <th>Programming_Rate</th>\n",
       "      <th>Preferred_Lang</th>\n",
       "      <th>Sim_Course</th>\n",
       "      <th>Focus</th>\n",
       "      <th>DS_Same_As_DA</th>\n",
       "      <th>Mean</th>\n",
       "      <th>Median</th>\n",
       "      <th>Sleeping_Time</th>\n",
       "      <th>Sleep_Duration</th>\n",
       "      <th>Like_Maths</th>\n",
       "      <th>Engg_First_Choice</th>\n",
       "      <th>Inst_Choice</th>\n",
       "      <th>Physical_Activity</th>\n",
       "    </tr>\n",
       "  </thead>\n",
       "  <tbody>\n",
       "    <tr>\n",
       "      <th>34</th>\n",
       "      <td>39</td>\n",
       "      <td>Male</td>\n",
       "      <td>156</td>\n",
       "      <td>84</td>\n",
       "      <td>2000-06-12 00:00:00</td>\n",
       "      <td>19</td>\n",
       "      <td>Taurus</td>\n",
       "      <td>9.21</td>\n",
       "      <td>3</td>\n",
       "      <td>C++</td>\n",
       "      <td>No</td>\n",
       "      <td>Data</td>\n",
       "      <td>No</td>\n",
       "      <td>30.0</td>\n",
       "      <td>9</td>\n",
       "      <td>11:00:00 PM</td>\n",
       "      <td>7</td>\n",
       "      <td>Yes</td>\n",
       "      <td>Yes</td>\n",
       "      <td>Doesn't matter</td>\n",
       "      <td>Once in a week</td>\n",
       "    </tr>\n",
       "    <tr>\n",
       "      <th>54</th>\n",
       "      <td>61</td>\n",
       "      <td>Male</td>\n",
       "      <td>178</td>\n",
       "      <td>62</td>\n",
       "      <td>2000-10-26 00:00:00</td>\n",
       "      <td>19</td>\n",
       "      <td>Virgo</td>\n",
       "      <td>8.75</td>\n",
       "      <td>4</td>\n",
       "      <td>Python</td>\n",
       "      <td>Yes</td>\n",
       "      <td>Data</td>\n",
       "      <td>No</td>\n",
       "      <td>30.0</td>\n",
       "      <td>8</td>\n",
       "      <td>12:30:00 AM</td>\n",
       "      <td>5 and a half hours</td>\n",
       "      <td>Yes</td>\n",
       "      <td>Yes</td>\n",
       "      <td>Doesn't matter</td>\n",
       "      <td>Not so often</td>\n",
       "    </tr>\n",
       "  </tbody>\n",
       "</table>\n",
       "</div>"
      ],
      "text/plain": [
       "     # Gender  Height  Weight                  DOB  Age Sun_Sign  CGPA  \\\n",
       "34  39   Male     156      84  2000-06-12 00:00:00   19   Taurus  9.21   \n",
       "54  61   Male     178      62  2000-10-26 00:00:00   19    Virgo  8.75   \n",
       "\n",
       "    Programming_Rate Preferred_Lang Sim_Course Focus DS_Same_As_DA  Mean  \\\n",
       "34                 3            C++         No  Data            No  30.0   \n",
       "54                 4         Python        Yes  Data            No  30.0   \n",
       "\n",
       "   Median Sleeping_Time      Sleep_Duration Like_Maths Engg_First_Choice  \\\n",
       "34      9   11:00:00 PM                   7        Yes               Yes   \n",
       "54      8   12:30:00 AM  5 and a half hours        Yes               Yes   \n",
       "\n",
       "       Inst_Choice Physical_Activity  \n",
       "34  Doesn't matter    Once in a week  \n",
       "54  Doesn't matter      Not so often  "
      ]
     },
     "execution_count": 40,
     "metadata": {},
     "output_type": "execute_result"
    }
   ],
   "source": [
    "df[df['Mean']>29]"
   ]
  },
  {
   "cell_type": "code",
   "execution_count": 42,
   "metadata": {},
   "outputs": [
    {
     "data": {
      "text/plain": [
       "Index(['#', 'Gender', 'Height', 'Weight', 'DOB', 'Age', 'Sun_Sign', 'CGPA',\n",
       "       'Programming_Rate', 'Preferred_Lang', 'Sim_Course', 'Focus',\n",
       "       'DS_Same_As_DA', 'Mean', 'Median', 'Sleeping_Time', 'Sleep_Duration',\n",
       "       'Like_Maths', 'Engg_First_Choice', 'Inst_Choice', 'Physical_Activity'],\n",
       "      dtype='object')"
      ]
     },
     "execution_count": 42,
     "metadata": {},
     "output_type": "execute_result"
    }
   ],
   "source": [
    "df.columns"
   ]
  },
  {
   "cell_type": "markdown",
   "metadata": {},
   "source": [
    "# Cleaning Median"
   ]
  },
  {
   "cell_type": "code",
   "execution_count": null,
   "metadata": {},
   "outputs": [],
   "source": [
    "for i in df['Median']:\n",
    "    print(i)"
   ]
  },
  {
   "cell_type": "code",
   "execution_count": 53,
   "metadata": {},
   "outputs": [
    {
     "data": {
      "text/plain": [
       "8                                                      194\n",
       "9                                                       50\n",
       "5                                                        3\n",
       "6                                                        3\n",
       "5.5                                                      3\n",
       "Data has to be orderely placed to calculate median       1\n",
       "30                                                       1\n",
       "I                                                        1\n",
       "4                                                        1\n",
       "8.5                                                      1\n",
       "Name: Median, dtype: int64"
      ]
     },
     "execution_count": 53,
     "metadata": {},
     "output_type": "execute_result"
    }
   ],
   "source": [
    "# All the values are strings and 2 of them are not numeric,\n",
    "# first the data is converted to numeric type\n",
    "# then the exceptions are ffilled.\n",
    "# There are no decimal values so the values are converted to int.\n",
    "df.Median.value_counts()"
   ]
  },
  {
   "cell_type": "code",
   "execution_count": 58,
   "metadata": {},
   "outputs": [
    {
     "data": {
      "text/plain": [
       "False    256\n",
       "True       2\n",
       "Name: Median, dtype: int64"
      ]
     },
     "execution_count": 58,
     "metadata": {},
     "output_type": "execute_result"
    }
   ],
   "source": [
    "pd.to_numeric(df.Median, errors='coerce').isna().value_counts()"
   ]
  },
  {
   "cell_type": "code",
   "execution_count": 59,
   "metadata": {},
   "outputs": [],
   "source": [
    "Median = pd.to_numeric(df.Median, errors='coerce')"
   ]
  },
  {
   "cell_type": "code",
   "execution_count": 70,
   "metadata": {},
   "outputs": [],
   "source": [
    "Median.fillna(method='ffill',inplace=True,downcast='int')\n",
    "df.Median = Median\n",
    "\n",
    "df.Median = [int(i) for i in df.Median]\n"
   ]
  },
  {
   "cell_type": "code",
   "execution_count": 78,
   "metadata": {},
   "outputs": [
    {
     "name": "stdout",
     "output_type": "stream",
     "text": [
      "The median value for df.Median is: 8.0\n"
     ]
    }
   ],
   "source": [
    "print('The median value for df.Median is:',df.Median.median())"
   ]
  },
  {
   "cell_type": "markdown",
   "metadata": {},
   "source": [
    "# Cleaning Sleeping_Time"
   ]
  },
  {
   "cell_type": "code",
   "execution_count": null,
   "metadata": {},
   "outputs": [],
   "source": [
    "# So far this is the worst column.\n",
    "# There are too many 'corner cases' I haven't been able to find a unified\n",
    "# solution except for going through the cases one by one starting from \n",
    "# the most common ones.\n",
    "# I think using re module can be of great use here. But I only used it once\n",
    "# since the amount of patterns that have to be checked for is too diverse.\n",
    "# I hate myself for doing it all by hand.\n",
    "for i in df.Sleeping_Time:\n",
    "    print(i)"
   ]
  },
  {
   "cell_type": "code",
   "execution_count": 191,
   "metadata": {},
   "outputs": [
    {
     "data": {
      "text/plain": [
       "258"
      ]
     },
     "execution_count": 191,
     "metadata": {},
     "output_type": "execute_result"
    }
   ],
   "source": [
    "len(df.Sleeping_Time)"
   ]
  },
  {
   "cell_type": "code",
   "execution_count": null,
   "metadata": {},
   "outputs": [],
   "source": [
    "for i in df.Sleeping_Time.apply(lambda x:x[:5]):\n",
    "    print(i)"
   ]
  },
  {
   "cell_type": "code",
   "execution_count": 244,
   "metadata": {},
   "outputs": [],
   "source": [
    "sleeping_time = [i[:2] for i in df.Sleeping_Time.apply\n",
    "                 (lambda x: re.findall('\\d+',x))]"
   ]
  },
  {
   "cell_type": "code",
   "execution_count": 245,
   "metadata": {},
   "outputs": [],
   "source": [
    "def sleeping_time_digits():\n",
    "    series = []\n",
    "    for i in sleeping_time:\n",
    "        if len(i)==1:\n",
    "            series.append(str(i[0]))\n",
    "        elif len(i)==2:\n",
    "            series.append(str(i[0])+str(i[1]))\n",
    "    return series\n",
    "            "
   ]
  },
  {
   "cell_type": "code",
   "execution_count": 246,
   "metadata": {},
   "outputs": [],
   "source": [
    "sleeping_time_series = sleeping_time_digits()"
   ]
  },
  {
   "cell_type": "code",
   "execution_count": 247,
   "metadata": {},
   "outputs": [],
   "source": [
    "sleeping_time_series = [i[:2]+':'+i[2:] if len(i)==4 else i for i in sleeping_time_series]"
   ]
  },
  {
   "cell_type": "code",
   "execution_count": 248,
   "metadata": {},
   "outputs": [],
   "source": [
    "sleeping_time_series = pd.Series(sleeping_time_series)"
   ]
  },
  {
   "cell_type": "code",
   "execution_count": 249,
   "metadata": {},
   "outputs": [],
   "source": [
    "sleeping_time_series = ['23'+i[2:] if i[:2]=='11' else i for i in sleeping_time_series]"
   ]
  },
  {
   "cell_type": "code",
   "execution_count": 251,
   "metadata": {},
   "outputs": [],
   "source": [
    "sleeping_time_series = ['00'+i[2:] if i[:2]=='12' else i for i in sleeping_time_series]"
   ]
  },
  {
   "cell_type": "code",
   "execution_count": 257,
   "metadata": {},
   "outputs": [],
   "source": [
    "sleeping_time_series = ['00:00' if i=='00' else i for i in sleeping_time_series]"
   ]
  },
  {
   "cell_type": "code",
   "execution_count": 260,
   "metadata": {},
   "outputs": [],
   "source": [
    "sleeping_time_series = ['23:00' if i=='23' else i for i in sleeping_time_series]"
   ]
  },
  {
   "cell_type": "code",
   "execution_count": 264,
   "metadata": {},
   "outputs": [],
   "source": [
    "sleeping_time_series = ['02:00' if i=='200' else i for i in sleeping_time_series]"
   ]
  },
  {
   "cell_type": "code",
   "execution_count": 267,
   "metadata": {},
   "outputs": [],
   "source": [
    "sleeping_time_series = ['22:00' if i=='10:00' else i for i in sleeping_time_series]"
   ]
  },
  {
   "cell_type": "code",
   "execution_count": 270,
   "metadata": {},
   "outputs": [],
   "source": [
    "sleeping_time_series = ['01:00' if i=='100' else i for i in sleeping_time_series]"
   ]
  },
  {
   "cell_type": "code",
   "execution_count": 272,
   "metadata": {},
   "outputs": [],
   "source": [
    "sleeping_time_series = ['01:30' if i=='130' else i for i in sleeping_time_series]"
   ]
  },
  {
   "cell_type": "code",
   "execution_count": 277,
   "metadata": {},
   "outputs": [],
   "source": [
    "sleeping_time_series = ['01:00' if i=='10' else i for i in sleeping_time_series]"
   ]
  },
  {
   "cell_type": "code",
   "execution_count": 279,
   "metadata": {},
   "outputs": [],
   "source": [
    "sleeping_time_series = ['01:00' if i=='1' else i for i in sleeping_time_series]"
   ]
  },
  {
   "cell_type": "code",
   "execution_count": 281,
   "metadata": {},
   "outputs": [],
   "source": [
    "sleeping_time_series = ['23:30' if i=='233' else i for i in sleeping_time_series]"
   ]
  },
  {
   "cell_type": "code",
   "execution_count": 283,
   "metadata": {},
   "outputs": [],
   "source": [
    "sleeping_time_series = ['03:00' if i=='3' else i for i in sleeping_time_series]"
   ]
  },
  {
   "cell_type": "code",
   "execution_count": 285,
   "metadata": {},
   "outputs": [],
   "source": [
    "sleeping_time_series = ['00:15' if i=='015' else i for i in sleeping_time_series]"
   ]
  },
  {
   "cell_type": "code",
   "execution_count": 289,
   "metadata": {},
   "outputs": [],
   "source": [
    "sleeping_time_series = ['02:00' if i=='2' else i for i in sleeping_time_series]"
   ]
  },
  {
   "cell_type": "code",
   "execution_count": 291,
   "metadata": {},
   "outputs": [],
   "source": [
    "sleeping_time_series = ['21:00' if i=='900' else i for i in sleeping_time_series]"
   ]
  },
  {
   "cell_type": "code",
   "execution_count": 293,
   "metadata": {},
   "outputs": [],
   "source": [
    "sleeping_time_series = ['21:00' if i=='9' else i for i in sleeping_time_series]"
   ]
  },
  {
   "cell_type": "code",
   "execution_count": 295,
   "metadata": {},
   "outputs": [],
   "source": [
    "sleeping_time_series = ['06:00' if i=='600' else i for i in sleeping_time_series]"
   ]
  },
  {
   "cell_type": "code",
   "execution_count": 297,
   "metadata": {},
   "outputs": [],
   "source": [
    "sleeping_time_series = ['21:30' if i=='930' else i for i in sleeping_time_series]"
   ]
  },
  {
   "cell_type": "code",
   "execution_count": 299,
   "metadata": {},
   "outputs": [],
   "source": [
    "sleeping_time_series = ['20:00' if i=='800' else i for i in sleeping_time_series]"
   ]
  },
  {
   "cell_type": "code",
   "execution_count": 301,
   "metadata": {},
   "outputs": [],
   "source": [
    "sleeping_time_series = ['05:45' if i=='545' else i for i in sleeping_time_series]"
   ]
  },
  {
   "cell_type": "code",
   "execution_count": 302,
   "metadata": {},
   "outputs": [
    {
     "data": {
      "text/plain": [
       "23:00    91\n",
       "00:00    38\n",
       "23:30    33\n",
       "01:00    24\n",
       "10:30    14\n",
       "22:00    14\n",
       "00:30    12\n",
       "02:00     9\n",
       "01:30     5\n",
       "21:00     3\n",
       "23:45     3\n",
       "03:00     2\n",
       "22:30     1\n",
       "23:29     1\n",
       "10:45     1\n",
       "06:00     1\n",
       "00:15     1\n",
       "05:45     1\n",
       "20:00     1\n",
       "21:30     1\n",
       "dtype: int64"
      ]
     },
     "execution_count": 302,
     "metadata": {},
     "output_type": "execute_result"
    }
   ],
   "source": [
    "sleeping_time_series = pd.Series(sleeping_time_series)\n",
    "sleeping_time_series.value_counts()"
   ]
  },
  {
   "cell_type": "code",
   "execution_count": 334,
   "metadata": {},
   "outputs": [],
   "source": [
    "sleeping_time_series_edited = pd.DataFrame(sleeping_time_series)"
   ]
  },
  {
   "cell_type": "code",
   "execution_count": 338,
   "metadata": {},
   "outputs": [],
   "source": [
    "sleeping_time_series_original = pd.DataFrame(df.Sleeping_Time)"
   ]
  },
  {
   "cell_type": "code",
   "execution_count": 344,
   "metadata": {},
   "outputs": [],
   "source": [
    "sleeping_time = sleeping_time_series_original.join(sleeping_time_series_edited)"
   ]
  },
  {
   "cell_type": "code",
   "execution_count": 347,
   "metadata": {},
   "outputs": [],
   "source": [
    "sleeping_time.columns = ['drop', 'Sleeping_Time']"
   ]
  },
  {
   "cell_type": "code",
   "execution_count": 349,
   "metadata": {},
   "outputs": [],
   "source": [
    "df.Sleeping_Time = sleeping_time.Sleeping_Time"
   ]
  },
  {
   "cell_type": "code",
   "execution_count": 366,
   "metadata": {},
   "outputs": [],
   "source": [
    "# filling nans with the most frequently observed slaaping time\n",
    "df.Sleeping_Time.fillna('23:00', inplace=True)"
   ]
  },
  {
   "cell_type": "code",
   "execution_count": 367,
   "metadata": {},
   "outputs": [],
   "source": [
    "df.Sleeping_Time = pd.to_datetime(df.Sleeping_Time)"
   ]
  },
  {
   "cell_type": "code",
   "execution_count": 370,
   "metadata": {},
   "outputs": [],
   "source": [
    "df.Sleeping_Time =  df['Sleeping_Time'].dt.hour"
   ]
  },
  {
   "cell_type": "code",
   "execution_count": 382,
   "metadata": {},
   "outputs": [
    {
     "data": {
      "text/plain": [
       "23    50.387597\n",
       "0     19.767442\n",
       "1     11.240310\n",
       "22     5.813953\n",
       "10     5.813953\n",
       "2      3.488372\n",
       "21     1.550388\n",
       "3      0.775194\n",
       "20     0.387597\n",
       "6      0.387597\n",
       "5      0.387597\n",
       "Name: Sleeping_Time, dtype: float64"
      ]
     },
     "execution_count": 382,
     "metadata": {},
     "output_type": "execute_result"
    }
   ],
   "source": [
    "#50% of the folks go to bed at 11 pm with 12am being the next\n",
    "# most popular time.\n",
    "df.Sleeping_Time.value_counts(normalize=True)*100"
   ]
  },
  {
   "cell_type": "markdown",
   "metadata": {},
   "source": [
    "# Cleaning Sleep_Duration"
   ]
  },
  {
   "cell_type": "code",
   "execution_count": 385,
   "metadata": {},
   "outputs": [
    {
     "data": {
      "text/plain": [
       "7                     102\n",
       "6                      49\n",
       "8                      33\n",
       "5                      17\n",
       "6-7                     9\n",
       "6.5                     6\n",
       "4                       6\n",
       "5-6                     4\n",
       "10                      3\n",
       "4 hours                 2\n",
       "7hrs                    2\n",
       "8hrs                    1\n",
       "9                       1\n",
       "5 and a 1/2             1\n",
       "8-9                     1\n",
       "5-6hours                1\n",
       "5 and a half hours      1\n",
       "8.5                     1\n",
       "6 hrs                   1\n",
       "4 - 5 hrs               1\n",
       "7 and a half            1\n",
       "7-8                     1\n",
       "8 hours                 1\n",
       "6:00                    1\n",
       "6-7                     1\n",
       "6.783762877             1\n",
       "9-10 Hrs                1\n",
       "May be 6                1\n",
       "6.75                    1\n",
       "5 nd a half             1\n",
       "6-7 hours               1\n",
       "6 hours                 1\n",
       "5.5hrs                  1\n",
       "6hr                     1\n",
       "Around 8 hours          1\n",
       "Name: Sleep_Duration, dtype: int64"
      ]
     },
     "execution_count": 385,
     "metadata": {},
     "output_type": "execute_result"
    }
   ],
   "source": [
    "df['Sleep_Duration'].value_counts()"
   ]
  },
  {
   "cell_type": "code",
   "execution_count": 394,
   "metadata": {},
   "outputs": [],
   "source": [
    "# making sure all entries are strings\n",
    "df.Sleep_Duration = df.Sleep_Duration.apply(lambda x: str(x))"
   ]
  },
  {
   "cell_type": "code",
   "execution_count": 400,
   "metadata": {},
   "outputs": [],
   "source": [
    "# durations are not incorporated, it's not reasonable since\n",
    "# most of the values are just descrete numbers\n",
    "duration = [i for i in df.Sleep_Duration.apply\n",
    "                 (lambda x: re.findall('\\d+',x))]"
   ]
  },
  {
   "cell_type": "code",
   "execution_count": 441,
   "metadata": {},
   "outputs": [],
   "source": [
    "duration =  pd.DataFrame(duration)[0]\n",
    "# filling single None value with the most frequent\n",
    "#value of 7h.\n",
    "duration = duration.fillna(7)\n",
    "duration = pd.to_numeric(duration)"
   ]
  },
  {
   "cell_type": "code",
   "execution_count": 442,
   "metadata": {},
   "outputs": [],
   "source": [
    "df['Sleep_Duration'] = duration"
   ]
  },
  {
   "cell_type": "markdown",
   "metadata": {},
   "source": [
    "# Cleaning Like_Maths"
   ]
  },
  {
   "cell_type": "code",
   "execution_count": 447,
   "metadata": {},
   "outputs": [
    {
     "data": {
      "text/plain": [
       "Yes    226\n",
       "No      30\n",
       "Name: Like_Maths, dtype: int64"
      ]
     },
     "execution_count": 447,
     "metadata": {},
     "output_type": "execute_result"
    }
   ],
   "source": [
    "df['Like_Maths'].value_counts()"
   ]
  },
  {
   "cell_type": "code",
   "execution_count": 458,
   "metadata": {},
   "outputs": [
    {
     "data": {
      "text/plain": [
       "False    256\n",
       "True       2\n",
       "Name: Like_Maths, dtype: int64"
      ]
     },
     "execution_count": 458,
     "metadata": {},
     "output_type": "execute_result"
    }
   ],
   "source": [
    "# There are 2 nans, I am replacing them with 'Yes'.\n",
    "df['Like_Maths'].isna().value_counts()"
   ]
  },
  {
   "cell_type": "code",
   "execution_count": 460,
   "metadata": {},
   "outputs": [],
   "source": [
    "df['Like_Maths'].fillna('Yes',inplace=True)"
   ]
  },
  {
   "cell_type": "markdown",
   "metadata": {},
   "source": [
    "# Cleaning Engg_First_Choice"
   ]
  },
  {
   "cell_type": "code",
   "execution_count": 465,
   "metadata": {},
   "outputs": [
    {
     "data": {
      "text/plain": [
       "Yes               206\n",
       "Doesn't matter     33\n",
       "Not at all         19\n",
       "Name: Engg_First_Choice, dtype: int64"
      ]
     },
     "execution_count": 465,
     "metadata": {},
     "output_type": "execute_result"
    }
   ],
   "source": [
    "df['Engg_First_Choice'].value_counts()"
   ]
  },
  {
   "cell_type": "code",
   "execution_count": 475,
   "metadata": {},
   "outputs": [],
   "source": [
    "# It's not clear to me what this column represents but\n",
    "# there is nothing to clean but I thought that wording can be\n",
    "# improved."
   ]
  },
  {
   "cell_type": "code",
   "execution_count": 476,
   "metadata": {},
   "outputs": [],
   "source": [
    "engg_dict = {'Yes':'Yes',\"Doesn't matter\":'Invariant',\n",
    "            'Not at all':'No'}"
   ]
  },
  {
   "cell_type": "code",
   "execution_count": 479,
   "metadata": {},
   "outputs": [],
   "source": [
    "df['Engg_First_Choice'] = df['Engg_First_Choice'].map(engg_dict)"
   ]
  },
  {
   "cell_type": "markdown",
   "metadata": {},
   "source": [
    "# Cleaning Inst_Choice"
   ]
  },
  {
   "cell_type": "code",
   "execution_count": 482,
   "metadata": {},
   "outputs": [
    {
     "data": {
      "text/plain": [
       "Doesn't matter    223\n",
       "Female             25\n",
       "Male               10\n",
       "Name: Inst_Choice, dtype: int64"
      ]
     },
     "execution_count": 482,
     "metadata": {},
     "output_type": "execute_result"
    }
   ],
   "source": [
    "df['Inst_Choice'].value_counts()"
   ]
  },
  {
   "cell_type": "code",
   "execution_count": 483,
   "metadata": {},
   "outputs": [],
   "source": [
    "inst_dict = {'Male':'Male',\"Doesn't matter\":'Invariant',\n",
    "            'Female':'Female'}"
   ]
  },
  {
   "cell_type": "code",
   "execution_count": 488,
   "metadata": {},
   "outputs": [],
   "source": [
    "df['Inst_Choice'] = df['Inst_Choice'].map(inst_dict)"
   ]
  },
  {
   "cell_type": "markdown",
   "metadata": {},
   "source": [
    "# Cleaning Physical_Activity"
   ]
  },
  {
   "cell_type": "code",
   "execution_count": 493,
   "metadata": {},
   "outputs": [
    {
     "data": {
      "text/plain": [
       "On daily basis     109\n",
       "Once in a week      78\n",
       "Not so often        53\n",
       "Once in a month     14\n",
       "Never                4\n",
       "Name: Physical_Activity, dtype: int64"
      ]
     },
     "execution_count": 493,
     "metadata": {},
     "output_type": "execute_result"
    }
   ],
   "source": [
    "df['Physical_Activity'].value_counts()"
   ]
  },
  {
   "cell_type": "code",
   "execution_count": 495,
   "metadata": {},
   "outputs": [
    {
     "data": {
      "text/plain": [
       "False    258\n",
       "Name: Physical_Activity, dtype: int64"
      ]
     },
     "execution_count": 495,
     "metadata": {},
     "output_type": "execute_result"
    }
   ],
   "source": [
    "df['Physical_Activity'].isna().value_counts()"
   ]
  },
  {
   "cell_type": "code",
   "execution_count": 498,
   "metadata": {},
   "outputs": [],
   "source": [
    "activity_dict = {'On daily basis':'Daily',\n",
    "                'Once in a week':'Weekly',\n",
    "                'Once in a month':'Monthly',\n",
    "                'Never':'Never',\n",
    "                'Not so often':'Rarely'} "
   ]
  },
  {
   "cell_type": "code",
   "execution_count": 500,
   "metadata": {},
   "outputs": [],
   "source": [
    "df['Physical_Activity'] = df['Physical_Activity'].map(activity_dict)"
   ]
  }
 ],
 "metadata": {
  "kernelspec": {
   "display_name": "Python 3",
   "language": "python",
   "name": "python3"
  },
  "language_info": {
   "codemirror_mode": {
    "name": "ipython",
    "version": 3
   },
   "file_extension": ".py",
   "mimetype": "text/x-python",
   "name": "python",
   "nbconvert_exporter": "python",
   "pygments_lexer": "ipython3",
   "version": "3.7.5"
  }
 },
 "nbformat": 4,
 "nbformat_minor": 4
}
