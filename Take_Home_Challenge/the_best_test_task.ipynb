{
 "cells": [
  {
   "cell_type": "markdown",
   "metadata": {},
   "source": [
    "# Tech Task description\n",
    "\n",
    "This file is attached in 2 formats:\n",
    "- jupyter notebook (`.ipynb`), where you're suggested to put your solution\n",
    "- `.html` version just to look at while you're solving these tasks elsewhere\n",
    "\n",
    "*Disclaimer*\n",
    "<br>All the tasks are expected to be done in Python 3.6+, \n",
    "<br>using any libraries you need, preferably `NumPy`, `pandas`, `scipy`, `statsmodels`\n",
    "<br>(if you use DL libraries $\\implies$ nice to use `tensorflow 2.x` with keras interface)\n",
    "\n",
    "\n",
    "\n",
    "<img src=\"http://www.musicmonks.com/wp-content/uploads/2012/05/maythe4thbewithyou.png\" width=\"250\" align=\"left\">"
   ]
  },
  {
   "cell_type": "markdown",
   "metadata": {},
   "source": [
    "## Task 1\n",
    "Consider small textual dataset `articles.csv`. \n",
    "It consists of 2 columns:\n",
    "\n",
    "- **text**: some sentence (aka \"word cloud\" split by spaces), extracted from specific article\n",
    "- **category**: hashed category for that article\n",
    "\n",
    "Given this data, please write (preferred - using `pandas` library functionality) code, <br>that extracts top-5 words with their correspondent counts from `text` column of all texts within `category` №3\n",
    "\n",
    "**Example output**: list of tuples or pandas.Series with index == word and values == counts\n",
    "\n",
    "<code>[\n",
    "    ('most_popular_w1', 200), \n",
    "    ('most_popular_w2', 190), \n",
    "    ('most_popular_w3', 180), \n",
    "    ('most_popular_w4', 151), \n",
    "    ('most_popular_w5', 100),\n",
    "]\n",
    "</code>"
   ]
  },
  {
   "cell_type": "code",
   "execution_count": 79,
   "metadata": {
    "ExecuteTime": {
     "end_time": "2019-10-02T15:54:57.603496Z",
     "start_time": "2019-10-02T15:54:57.600295Z"
    }
   },
   "outputs": [],
   "source": [
    "import pandas as pd\n",
    "import numpy as np\n",
    "from collections import Counter\n",
    "import json\n",
    "import matplotlib.pyplot as plt \n",
    "import seaborn as sns\n",
    "from sklearn.preprocessing import StandardScaler, MinMaxScaler, OneHotEncoder\n",
    "from keras.models import Sequential\n",
    "from keras.layers import Dense, Dropout\n",
    "from keras.callbacks import EarlyStopping"
   ]
  },
  {
   "cell_type": "code",
   "execution_count": 3,
   "metadata": {},
   "outputs": [
    {
     "data": {
      "text/plain": [
       "[('you', 149), ('did', 142), ('this', 113), ('task', 79), ('correctly', 46)]"
      ]
     },
     "execution_count": 3,
     "metadata": {},
     "output_type": "execute_result"
    }
   ],
   "source": [
    "df = pd.read_csv('articles.csv')\n",
    "df = df.loc[df.category == 3]\n",
    "results = Counter()\n",
    "df['text'].str.lower().str.split().apply(results.update)\n",
    "results.most_common()[:5]"
   ]
  },
  {
   "cell_type": "markdown",
   "metadata": {},
   "source": [
    "<img src=\"https://i.pinimg.com/236x/22/cd/e8/22cde821e9dc3f2db322acd43f058282.jpg\" width=\"250\" align=\"left\">"
   ]
  },
  {
   "cell_type": "markdown",
   "metadata": {},
   "source": [
    "## Task 2\n",
    "Consider $X \\sim U[0,1]$, $Y \\sim U[0,1]$ are two independent random variables, uniformly distributed on [0,1].\n",
    "<br>Let $Z = 2X - Y$\n",
    "<br>Find the probability $P(Z \\leq 1)$\n",
    "\n",
    "P.s. If you can't quickly figure out analytical solution <img src=\"https://images-na.ssl-images-amazon.com/images/I/51HGZoQ64IL._UX395_.jpg\" width=\"40\" align=\"left\">\n",
    "then propose alternative method to solve this task (say, numerically)"
   ]
  },
  {
   "cell_type": "markdown",
   "metadata": {
    "ExecuteTime": {
     "end_time": "2019-10-02T16:01:07.248797Z",
     "start_time": "2019-10-02T16:01:07.245935Z"
    }
   },
   "source": [
    "Potential analytical solution:\n",
    "$\\frac{1}{2} \\cdot 2=1$"
   ]
  },
  {
   "cell_type": "markdown",
   "metadata": {},
   "source": [
    "## Task 3\n",
    "Consider we have 2 similar groups of shops with similar dynamics:\n",
    "<br>(these groups are located in different regions)\n",
    "- group A = $a_{1}, a_{2}, ..., a_{n}$ \n",
    "<br>(control group, no actions were taken to impact repricing procedure)\n",
    "- group B = $b_{1}, b_{2}, ..., b_{m}$ \n",
    "<br>(test group, we applied secret machine learning methods here to recommend new prices and boost performance)\n",
    "<br> $m \\neq n$ in general case \n",
    "\n",
    "<br>Then, based on relevant base period $t_{0}$ (to exclude trend impact and market natural growth tendencies), \n",
    "<br>we measured year-over-year growth of client's KPI in pilot period $t_{1}$ for every abovementioned shop: <br>$g_{x} = \\frac{KPI(x(t_{1}))}{KPI(x(t_{0}))} - 1 \\:\\: \\forall x \\in A \\cup B$\n",
    "\n",
    "Given these growth rates $g_{a_{1}}, ... , g_{a_{n}}$ and $g_{b_{1}}, ... , g_{b_{m}}$ in file `pilot_stats.json`\n",
    "<br>argue and propose a way to estimate whether we had **significant positive impact** on client's KPI,\n",
    "<br>**in test group B** (caused by our actions) over \"do-nothing scenario\" in group A.\n",
    "<br>Consider significance level 95%. \n",
    "<br>**if needed**, perform some visualization and calculate confidence interval for estimated parameter \n",
    "\n",
    "<br>**Example output**:\n",
    "<code>{\n",
    "    'significant_impact': True/False, \n",
    "    'pvalue': p-value,\n",
    "    ['confidence_interval': (ci_LB, ci_UB)]\n",
    "}</code>\n",
    "\n",
    "This task is also expected to be done in Python.\n",
    "\n",
    "<img src=\"https://miro.medium.com/max/273/1*oTxZV0CGbMaHu_RWspnLbg.jpeg\" align=\"left\" width=\"100\"/>"
   ]
  },
  {
   "cell_type": "code",
   "execution_count": 31,
   "metadata": {},
   "outputs": [
    {
     "name": "stdout",
     "output_type": "stream",
     "text": [
      "N group_a (control): 120\n",
      "N group_b (treatment): 80\n"
     ]
    }
   ],
   "source": [
    "with open('pilot_stats.json', 'r') as f:\n",
    "    data = json.load(f)\n",
    "    \n",
    "print('N group_a (control): {}'.format(len(data['group_a'])))\n",
    "print('N group_b (treatment): {}'.format(len(data['group_b'])))    "
   ]
  },
  {
   "cell_type": "code",
   "execution_count": 5,
   "metadata": {},
   "outputs": [],
   "source": [
    "def ecdf(data):\n",
    "    n = len(data)\n",
    "    x = np.sort(data)\n",
    "    y = np.arange(1, n+1) / n\n",
    "    \n",
    "    return x, y"
   ]
  },
  {
   "cell_type": "code",
   "execution_count": 6,
   "metadata": {},
   "outputs": [
    {
     "data": {
      "image/png": "[encoded data removed]",
      "text/plain": [
       "<Figure size 600x400 with 1 Axes>"
      ]
     },
     "metadata": {
      "needs_background": "light"
     },
     "output_type": "display_data"
    }
   ],
   "source": [
    "x_a, y_a = ecdf(data['group_a'])\n",
    "x_b, y_b = ecdf(data['group_b'])\n",
    "\n",
    "plt.figure(dpi=100)\n",
    "plt.plot(x_a,y_a, linestyle='none',\n",
    "marker='.', label='control')\n",
    "plt.plot(x_b,y_b, linestyle='none',\n",
    "marker='.', label='treatment')\n",
    "plt.xlabel('growth rate')\n",
    "plt.ylabel('ECDF')\n",
    "plt.legend()\n",
    "plt.show()"
   ]
  },
  {
   "cell_type": "markdown",
   "metadata": {},
   "source": [
    "# Proposed test\n",
    "After examining the data I propose to conduct a bootstrap means difference test.\\\n",
    "Null hypothesis - means of two groups are equal:\\\n",
    "$H_{0}: \\mu_{1}=\\mu_{2}$\\\n",
    "Alternative hypothesis - control group's mean is lesser than control group's mean:\\\n",
    "$H_{1}: \\mu_{1}<\\mu_{2}$"
   ]
  },
  {
   "cell_type": "code",
   "execution_count": 11,
   "metadata": {},
   "outputs": [],
   "source": [
    "def draw_bs_reps(data, func, N):   \n",
    "    sample = np.empty(N)\n",
    "    for i in range(N):\n",
    "        bs_sample = np.random.choice(data, len(data))\n",
    "        sample[i] = func(bs_sample)\n",
    "    return sample\n",
    "\n",
    "\n",
    "def bs_mean_difference_test(data_A, data_B):\n",
    "    np.random.seed(0)\n",
    "    \n",
    "    #### test ####\n",
    "    mean_diff = np.mean(group_B) - np.mean(group_A)\n",
    "\n",
    "    combined_mean = np.mean(np.concatenate((data_A, data_B)))\n",
    "    A_shifted = data_A-np.mean(data_A)+combined_mean\n",
    "    B_shifted = data_B-np.mean(data_B)+combined_mean\n",
    "    \n",
    "    A_replicates = draw_bs_reps(A_shifted, np.mean, 100000)\n",
    "    B_replicates = draw_bs_reps(B_shifted, np.mean, 100000)\n",
    "    \n",
    "    bs_diff_replicates = B_replicates - A_replicates\n",
    "    \n",
    "    p = np.sum(bs_diff_replicates >= mean_diff) / len(bs_diff_replicates)\n",
    "    hyp_test = p<=0.05\n",
    "\n",
    "    #### confidence interval ####\n",
    "    bs_group_A_mean = draw_bs_reps(data_A, np.mean, 100000)\n",
    "    bs_group_B_mean = draw_bs_reps(data_B, np.mean, 100000)\n",
    "    replicate_mean_diff = bs_group_B_mean - bs_group_A_mean\n",
    "    conf_int = np.percentile(replicate_mean_diff,[2.5, 97.5])\n",
    "    \n",
    "    #### results ####\n",
    "    result = {}\n",
    "    result['significant_impact'] = hyp_test\n",
    "    result['pvalue'] = p\n",
    "    result['confidence_interval'] = conf_int\n",
    "    \n",
    "    return result"
   ]
  },
  {
   "cell_type": "code",
   "execution_count": 14,
   "metadata": {},
   "outputs": [
    {
     "name": "stdout",
     "output_type": "stream",
     "text": [
      "{'significant_impact': True, 'pvalue': 0.03931, 'confidence_interval': array([0.28062635, 3.58561933])}\n"
     ]
    }
   ],
   "source": [
    "group_A = np.array(data['group_a'])\n",
    "group_B = np.array(data['group_b'])\n",
    "\n",
    "results = bs_mean_difference_test(group_A, group_B)\n",
    "print(results)"
   ]
  },
  {
   "cell_type": "markdown",
   "metadata": {},
   "source": [
    "## Task 4"
   ]
  },
  {
   "cell_type": "markdown",
   "metadata": {
    "ExecuteTime": {
     "end_time": "2019-09-30T19:49:19.391821Z",
     "start_time": "2019-09-30T19:49:19.388840Z"
    }
   },
   "source": [
    "You're given small dataset `task4_data.csv` (encoding=`utf-8`, comma-delimited), it consists of:\n",
    "- `x1`, `x2`, `x3`: numerical features\n",
    "- `id`: row id, simple autoincremented id, do not use this feature in production :)\n",
    "- `cat1`, `cat2`: categorical features\n",
    "- `target`: regression target you need to predict for test set\n",
    "- `is_test`: whether it's test data (True) or train data (False)\n",
    "\n",
    "Your task is to select ML model (`y_train.mean()` is not enough) of your choice \n",
    "<br>(preferable - neural network in `Keras/tensorflow`)\n",
    "<br>train it on correspondent dataset and make prediction for `target` value where `is_test` == True\n",
    "<br>Exploratory analysis, as well as validation strategy, loss and metric choices are up to you\n",
    "<br>Pay more attention to methodology than to model complexity\n",
    "\n",
    "**Desired output** - `test.csv` file with (`id`, `target`) pairs"
   ]
  },
  {
   "cell_type": "markdown",
   "metadata": {},
   "source": [
    "## train/test split"
   ]
  },
  {
   "cell_type": "code",
   "execution_count": 17,
   "metadata": {},
   "outputs": [],
   "source": [
    "df = pd.read_csv('task4_data.csv')\n",
    "df = df[['id', 'x1', 'x2', 'x3', 'cat1', 'cat2', 'is_test', 'target']]\n",
    "\n",
    "train = df.loc[df.is_test == False]\n",
    "test = df.loc[df.is_test == True]\n",
    "\n",
    "X_train = train.iloc[:,1:-2]\n",
    "y_train = train[['target']]\n",
    "X_test = test.iloc[:,1:-2]"
   ]
  },
  {
   "cell_type": "code",
   "execution_count": 78,
   "metadata": {},
   "outputs": [
    {
     "data": {
      "text/plain": [
       "id         0\n",
       "x1         0\n",
       "x2         0\n",
       "x3         0\n",
       "cat1       0\n",
       "cat2       0\n",
       "is_test    0\n",
       "dtype: int64"
      ]
     },
     "execution_count": 78,
     "metadata": {},
     "output_type": "execute_result"
    }
   ],
   "source": [
    "df.iloc[:,:-1].isna().sum()"
   ]
  },
  {
   "cell_type": "code",
   "execution_count": 61,
   "metadata": {},
   "outputs": [
    {
     "data": {
      "text/html": [
       "<div>\n",
       "<style scoped>\n",
       "    .dataframe tbody tr th:only-of-type {\n",
       "        vertical-align: middle;\n",
       "    }\n",
       "\n",
       "    .dataframe tbody tr th {\n",
       "        vertical-align: top;\n",
       "    }\n",
       "\n",
       "    .dataframe thead th {\n",
       "        text-align: right;\n",
       "    }\n",
       "</style>\n",
       "<table border=\"1\" class=\"dataframe\">\n",
       "  <thead>\n",
       "    <tr style=\"text-align: right;\">\n",
       "      <th></th>\n",
       "      <th>x1</th>\n",
       "      <th>x2</th>\n",
       "      <th>x3</th>\n",
       "    </tr>\n",
       "  </thead>\n",
       "  <tbody>\n",
       "    <tr>\n",
       "      <th>x1</th>\n",
       "      <td>1.000000</td>\n",
       "      <td>-0.002766</td>\n",
       "      <td>-0.015583</td>\n",
       "    </tr>\n",
       "    <tr>\n",
       "      <th>x2</th>\n",
       "      <td>-0.002766</td>\n",
       "      <td>1.000000</td>\n",
       "      <td>-0.042289</td>\n",
       "    </tr>\n",
       "    <tr>\n",
       "      <th>x3</th>\n",
       "      <td>-0.015583</td>\n",
       "      <td>-0.042289</td>\n",
       "      <td>1.000000</td>\n",
       "    </tr>\n",
       "  </tbody>\n",
       "</table>\n",
       "</div>"
      ],
      "text/plain": [
       "          x1        x2        x3\n",
       "x1  1.000000 -0.002766 -0.015583\n",
       "x2 -0.002766  1.000000 -0.042289\n",
       "x3 -0.015583 -0.042289  1.000000"
      ]
     },
     "execution_count": 61,
     "metadata": {},
     "output_type": "execute_result"
    }
   ],
   "source": [
    "df.iloc[:,1:4].corr()"
   ]
  },
  {
   "cell_type": "code",
   "execution_count": 73,
   "metadata": {},
   "outputs": [
    {
     "name": "stdout",
     "output_type": "stream",
     "text": [
      "cat1\n",
      "b    0.285714\n",
      "d    0.285714\n",
      "a    0.250000\n",
      "c    0.178571\n",
      "Name: cat1, dtype: float64\n",
      "cat2\n",
      "a    0.254643\n",
      "b    0.250000\n",
      "d    0.250000\n",
      "c    0.245357\n",
      "Name: cat2, dtype: float64\n"
     ]
    }
   ],
   "source": [
    "print('cat1')\n",
    "print(df.cat1.value_counts(normalize=True, sort=True))\n",
    "print('cat2')\n",
    "print(df.cat2.value_counts(normalize=True, sort=True))"
   ]
  },
  {
   "cell_type": "code",
   "execution_count": 102,
   "metadata": {},
   "outputs": [
    {
     "data": {
      "image/png": "[encoded data removed]",
      "text/plain": [
       "<Figure size 600x400 with 2 Axes>"
      ]
     },
     "metadata": {
      "needs_background": "light"
     },
     "output_type": "display_data"
    }
   ],
   "source": [
    "fig, axs = plt.subplots(2, dpi=100)\n",
    "fig.suptitle('Target variable')\n",
    "axs[0].plot(y_train['target'])\n",
    "axs[1].hist(y_train['target'],bins=30)\n",
    "plt.show()"
   ]
  },
  {
   "cell_type": "markdown",
   "metadata": {},
   "source": [
    "## pre-processing"
   ]
  },
  {
   "cell_type": "code",
   "execution_count": 18,
   "metadata": {},
   "outputs": [],
   "source": [
    "# OneHotEncoding is used for categorical data.\n",
    "ohe = OneHotEncoder(drop='first').fit(X_train.iloc[:,3:])\n",
    "categorical = pd.DataFrame(ohe.transform(X_train.iloc[:,3:]).toarray())\n",
    "categorical.columns = ohe.get_feature_names()\n",
    "\n",
    "# Standard Scaler is used for numerical data.\n",
    "scaler = StandardScaler()\n",
    "numerical = scaler.fit_transform(X_train.iloc[:,0:3])\n",
    "numerical = pd.DataFrame(numerical)\n",
    "numerical.columns = X_train.iloc[:,0:3].columns\n",
    "X_train = pd.concat([numerical, categorical], axis=1)\n",
    "\n",
    "# Same pre-processing is applied on X_test.\n",
    "categorical_test = pd.DataFrame(ohe.transform(X_test.iloc[:,3:]).toarray())\n",
    "categorical_test.columns = ohe.get_feature_names()\n",
    "numerical_test = pd.DataFrame(scaler.transform(X_test.iloc[:,0:3]))\n",
    "numerical_test.columns = X_train.iloc[:,0:3].columns\n",
    "X_test = pd.concat([numerical_test, categorical_test], axis=1)"
   ]
  },
  {
   "cell_type": "markdown",
   "metadata": {},
   "source": [
    "## modeling"
   ]
  },
  {
   "cell_type": "code",
   "execution_count": 80,
   "metadata": {},
   "outputs": [
    {
     "name": "stdout",
     "output_type": "stream",
     "text": [
      "Train on 2142 samples, validate on 238 samples\n",
      "Epoch 1/100\n",
      " - 2s - loss: 0.5949 - val_loss: 0.4586\n",
      "Epoch 2/100\n",
      " - 0s - loss: 0.4419 - val_loss: 0.3227\n",
      "Epoch 3/100\n",
      " - 0s - loss: 0.3608 - val_loss: 0.2559\n",
      "Epoch 4/100\n",
      " - 0s - loss: 0.3022 - val_loss: 0.2263\n",
      "Epoch 5/100\n",
      " - 0s - loss: 0.2860 - val_loss: 0.2156\n",
      "Epoch 6/100\n",
      " - 0s - loss: 0.2706 - val_loss: 0.1984\n",
      "Epoch 7/100\n",
      " - 0s - loss: 0.2414 - val_loss: 0.1872\n",
      "Epoch 8/100\n",
      " - 0s - loss: 0.2421 - val_loss: 0.1684\n",
      "Epoch 9/100\n",
      " - 0s - loss: 0.2233 - val_loss: 0.1537\n",
      "Epoch 10/100\n",
      " - 0s - loss: 0.2039 - val_loss: 0.1343\n",
      "Epoch 11/100\n",
      " - 0s - loss: 0.1967 - val_loss: 0.1272\n",
      "Epoch 12/100\n",
      " - 0s - loss: 0.2023 - val_loss: 0.1186\n",
      "Epoch 13/100\n",
      " - 0s - loss: 0.1779 - val_loss: 0.0990\n",
      "Epoch 14/100\n",
      " - 0s - loss: 0.1662 - val_loss: 0.0999\n",
      "Epoch 15/100\n",
      " - 0s - loss: 0.1519 - val_loss: 0.0867\n",
      "Epoch 16/100\n",
      " - 0s - loss: 0.1465 - val_loss: 0.0889\n",
      "Epoch 17/100\n",
      " - 0s - loss: 0.1377 - val_loss: 0.0791\n",
      "Epoch 18/100\n",
      " - 0s - loss: 0.1383 - val_loss: 0.0752\n",
      "Epoch 19/100\n",
      " - 0s - loss: 0.1383 - val_loss: 0.0767\n",
      "Epoch 20/100\n",
      " - 0s - loss: 0.1358 - val_loss: 0.0778\n",
      "Epoch 21/100\n",
      " - 0s - loss: 0.1243 - val_loss: 0.0695\n",
      "Epoch 22/100\n",
      " - 0s - loss: 0.1284 - val_loss: 0.0699\n",
      "Epoch 23/100\n",
      " - 0s - loss: 0.1158 - val_loss: 0.0666\n",
      "Epoch 24/100\n",
      " - 0s - loss: 0.1114 - val_loss: 0.0647\n",
      "Epoch 25/100\n",
      " - 0s - loss: 0.1114 - val_loss: 0.0695\n",
      "Epoch 26/100\n",
      " - 0s - loss: 0.1177 - val_loss: 0.0691\n",
      "Epoch 27/100\n",
      " - 0s - loss: 0.1141 - val_loss: 0.0654\n",
      "Epoch 28/100\n",
      " - 0s - loss: 0.1067 - val_loss: 0.0617\n",
      "Epoch 29/100\n",
      " - 0s - loss: 0.1097 - val_loss: 0.0644\n",
      "Epoch 30/100\n",
      " - 0s - loss: 0.1052 - val_loss: 0.0626\n",
      "Epoch 31/100\n",
      " - 0s - loss: 0.1006 - val_loss: 0.0721\n",
      "Epoch 32/100\n",
      " - 0s - loss: 0.1015 - val_loss: 0.0688\n",
      "Epoch 33/100\n",
      " - 0s - loss: 0.0963 - val_loss: 0.0723\n",
      "Restoring model weights from the end of the best epoch\n",
      "Epoch 00033: early stopping\n"
     ]
    },
    {
     "data": {
      "text/plain": [
       "<keras.callbacks.callbacks.History at 0x7fed043d0350>"
      ]
     },
     "execution_count": 80,
     "metadata": {},
     "output_type": "execute_result"
    }
   ],
   "source": [
    "np.random.seed(1) \n",
    "EPOCHS = 100\n",
    "BATCH_SIZE = 32\n",
    "\n",
    "\"\"\" \n",
    "Dense network is usually the first thing to try. \n",
    "Depending on nature of the data there may be better architectures.\n",
    "\"\"\"\n",
    "model = Sequential()\n",
    "model.add(Dense(64, input_dim = X_train.values.shape[1], activation = 'relu'))\n",
    "model.add(Dropout(0.2))\n",
    "model.add(Dense(128, activation = 'relu'))\n",
    "model.add(Dropout(0.2))\n",
    "model.add(Dense(64, activation = 'relu'))\n",
    "model.add(Dropout(0.2))\n",
    "model.add(Dense(1)) \n",
    "model.compile(loss='mean_squared_error', optimizer = 'adam')\n",
    "\n",
    "# Cross-validation is used as a validation strategy.\n",
    "monitor = EarlyStopping(monitor='val_loss', min_delta = 1e-3, \n",
    "patience=5, verbose=1, mode='auto', restore_best_weights=True)\n",
    "\n",
    "model.fit(X_train.values,y_train.values,validation_split=0.1, \n",
    "          callbacks=[monitor], verbose=2, epochs=EPOCHS, batch_size=BATCH_SIZE)"
   ]
  },
  {
   "cell_type": "code",
   "execution_count": 99,
   "metadata": {},
   "outputs": [],
   "source": [
    "ids = df.loc[df.is_test==True]['id']\n",
    "predictions = model.predict(X_test).reshape(420)\n",
    "test = pd.DataFrame({'id':ids, 'target':predictions})\n",
    "#test.reset_index(inplace=True, drop=True)\n",
    "test.to_csv('test.csv', index=False)"
   ]
  },
  {
   "cell_type": "code",
   "execution_count": 100,
   "metadata": {},
   "outputs": [
    {
     "data": {
      "image/png": "[encoded data removed]",
      "text/plain": [
       "<Figure size 600x400 with 1 Axes>"
      ]
     },
     "metadata": {
      "needs_background": "light"
     },
     "output_type": "display_data"
    }
   ],
   "source": [
    "plt.figure(dpi=100)\n",
    "plt.plot(y_train['target'], label='training set')\n",
    "plt.plot(test['target'], label='predicted')\n",
    "plt.legend(loc='lower left')\n",
    "plt.title('Target Variable')\n",
    "plt.show()"
   ]
  }
 ],
 "metadata": {
  "hide_input": false,
  "kernelspec": {
   "display_name": "Python 3",
   "language": "python",
   "name": "python3"
  },
  "language_info": {
   "codemirror_mode": {
    "name": "ipython",
    "version": 3
   },
   "file_extension": ".py",
   "mimetype": "text/x-python",
   "name": "python",
   "nbconvert_exporter": "python",
   "pygments_lexer": "ipython3",
   "version": "3.7.6"
  },
  "toc": {
   "base_numbering": 1,
   "nav_menu": {},
   "number_sections": true,
   "sideBar": true,
   "skip_h1_title": false,
   "title_cell": "Table of Contents",
   "title_sidebar": "Contents",
   "toc_cell": false,
   "toc_position": {},
   "toc_section_display": true,
   "toc_window_display": false
  },
  "varInspector": {
   "cols": {
    "lenName": 16,
    "lenType": 16,
    "lenVar": 40
   },
   "kernels_config": {
    "python": {
     "delete_cmd_postfix": "",
     "delete_cmd_prefix": "del ",
     "library": "var_list.py",
     "varRefreshCmd": "print(var_dic_list())"
    },
    "r": {
     "delete_cmd_postfix": ") ",
     "delete_cmd_prefix": "rm(",
     "library": "var_list.r",
     "varRefreshCmd": "cat(var_dic_list()) "
    }
   },
   "types_to_exclude": [
    "module",
    "function",
    "builtin_function_or_method",
    "instance",
    "_Feature"
   ],
   "window_display": false
  }
 },
 "nbformat": 4,
 "nbformat_minor": 4
}
