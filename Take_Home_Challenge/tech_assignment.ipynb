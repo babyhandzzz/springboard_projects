{
 "metadata": {
  "language_info": {
   "codemirror_mode": {
    "name": "ipython",
    "version": 3
   },
   "file_extension": ".py",
   "mimetype": "text/x-python",
   "name": "python",
   "nbconvert_exporter": "python",
   "pygments_lexer": "ipython3",
   "version": 3
  },
  "orig_nbformat": 2,
  "kernelspec": {
   "name": "python_defaultSpec_1595348560377",
   "display_name": "Python 3.7.6 64-bit ('anaconda3': virtualenv)"
  }
 },
 "nbformat": 4,
 "nbformat_minor": 2,
 "cells": [
  {
   "cell_type": "code",
   "execution_count": 53,
   "metadata": {},
   "outputs": [],
   "source": [
    "import pandas as pd\n",
    "import numpy as np\n",
    "import re\n",
    "\n",
    "from sklearn.feature_extraction.text import CountVectorizer\n",
    "from sklearn.feature_extraction.text import TfidfVectorizer\n",
    "\n",
    "from sklearn.ensemble import GradientBoostingRegressor\n",
    "\n",
    "import matplotlib.pyplot as plt"
   ]
  },
  {
   "cell_type": "markdown",
   "metadata": {},
   "source": [
    "# Pre-Processed dataset "
   ]
  },
  {
   "cell_type": "code",
   "execution_count": 2,
   "metadata": {},
   "outputs": [],
   "source": [
    "columns = [\n",
    "'summary', # text tfidf\n",
    "'description', # text tfidf\n",
    "'neighborhood_overview', # text tfidf\n",
    "'transit', # text tfidf\n",
    "'host_about', # text tfidf\n",
    "\n",
    "'host_since', # date, number of months\n",
    "\n",
    "'host_verifications', # string of terms\n",
    "'amenities', # string of terms\n",
    "\n",
    "'host_response_rate', # string, strip the % sign, convert to integer !!!!!!!!!!!!!!!!!!!!!!!\n",
    "'host_acceptance_rate', # string, strip the % sign, convert to integer !!!!!!!!!!!!!!!!!!!!!!!\n",
    "'cleaning_fee', # string, strip the % sign, convert to integer !!!!!!!!!!!!!!!!!!!!!!!\n",
    "\n",
    "'zipcode',  # string, convert to int \n",
    "'property_type', # string\n",
    "'room_type', # string\n",
    "'accommodates', #int\n",
    "'bathrooms', # float\n",
    "'bedrooms', # float, convert to integer\n",
    "'beds', # float, convert to integer\n",
    "'bed_type', # string ohe\n",
    "'guests_included', # int, ohe, anything that is below 1% can go\n",
    "'minimum_nights', # int, ohe, anything that is below 1% can go\n",
    "'maximum_nights', # int, ohe, anything that is below 1% can go\n",
    "'number_of_reviews', # int, ohe, anything that is below 1% can go\n",
    "'review_scores_rating', # float, do nithing for now\n",
    "'review_scores_accuracy', #float, convert to integer, ohe\n",
    "'review_scores_cleanliness', #float, convert to integer, ohe\n",
    "'review_scores_checkin', #float, convert to integer, ohe\n",
    "'review_scores_communication', #float, convert to integer, ohe\n",
    "'review_scores_location', #float, convert to integer, ohe\n",
    "'review_scores_value', #float, convert to integer, ohe\n",
    "'instant_bookable', # str t/f, bianry encoding\n",
    "'cancellation_policy', # str ,4 categories, ohe\n",
    "'calculated_host_listings_count', #  int, ohe\n",
    "'reviews_per_month',# float, maybe ohe, there are like 500+ unique values\n",
    "\n",
    "'price' # target variable\n",
    "]\n",
    "\n",
    "data = pd.read_csv('data/Train.csv',usecols=columns)"
   ]
  },
  {
   "cell_type": "markdown",
   "metadata": {},
   "source": [
    "# TFIDF transfomrmation"
   ]
  },
  {
   "cell_type": "code",
   "execution_count": 34,
   "metadata": {},
   "outputs": [],
   "source": [
    "def tfidf_columns(df,columns):\n",
    "    \n",
    "    list_ = []\n",
    "    new_df = pd.DataFrame(index=range(df.shape[0]))\n",
    "\n",
    "    for column in columns:\n",
    "        tfidf =TfidfVectorizer(min_df=40, stop_words='english', lowercase=True, max_df=500)\n",
    "        df[column].fillna('none',inplace=True)\n",
    "        processed_text = tfidf.fit_transform(df[column])\n",
    "        processed_text = pd.DataFrame(processed_text.toarray(), columns=tfidf.get_feature_names())\n",
    "        processed_text.columns = [column+'_'+i for i in processed_text.columns]\n",
    "        \n",
    "        list_.append(processed_text)\n",
    "    \n",
    "    df = pd.concat(list_,axis=1)\n",
    "    return df\n",
    "\n",
    "text_columns = [\n",
    "'summary', # text\n",
    "'description', # text\n",
    "'neighborhood_overview', # text\n",
    "'transit', # text\n",
    "'host_about'] # text]"
   ]
  },
  {
   "cell_type": "markdown",
   "metadata": {},
   "source": [
    "# Number of months listed on platform"
   ]
  },
  {
   "cell_type": "code",
   "execution_count": 4,
   "metadata": {},
   "outputs": [],
   "source": [
    "def host_since(df):\n",
    "\n",
    "    date_df = df[['host_since']]\n",
    "    date_df['host_since'] = pd.to_datetime(date_df['host_since'])\n",
    "    date_df['now'] =  pd.Timestamp('2020-07-22')\n",
    "    date_df = pd.DataFrame((date_df['now'] - date_df['host_since'])/np.timedelta64(1, 'M'), columns=['months_active'])\n",
    "    date_df['months_active'] = date_df['months_active'].astype('int')\n",
    "    return date_df"
   ]
  },
  {
   "cell_type": "markdown",
   "metadata": {},
   "source": [
    "# Amenities "
   ]
  },
  {
   "cell_type": "code",
   "execution_count": 5,
   "metadata": {},
   "outputs": [],
   "source": [
    "def amenities(df, column):\n",
    "    df[column] = df[column].str.replace(r'{|\"|}|/', '')\n",
    "    df[column] = df[column].str.replace(' ', '')\n",
    "    vector = CountVectorizer()\n",
    "    series = vector.fit_transform(df[column])\n",
    "    df = pd.DataFrame(series.toarray(), columns=vector.get_feature_names())\n",
    "    return df"
   ]
  },
  {
   "cell_type": "markdown",
   "metadata": {},
   "source": [
    "# OHE"
   ]
  },
  {
   "cell_type": "code",
   "execution_count": 6,
   "metadata": {},
   "outputs": [],
   "source": [
    "def ohe(df,column,prefix,rare=False):\n",
    "    \n",
    "    df[column] = df[column].str.replace(\" \",\"\")\n",
    "    df[column] = df[column].str.replace(r'-|&|/', '')\n",
    "    \n",
    "    most_frequent_value = df[column].value_counts().idxmax()\n",
    "    df[column].fillna(most_frequent_value,inplace=True)\n",
    "    vectorizer = CountVectorizer()\n",
    "    \n",
    "    if rare==False:\n",
    "        series = vectorizer.fit_transform(df[column])\n",
    "        df = pd.DataFrame(series.toarray(),columns=vectorizer.get_feature_names())\n",
    "        df.columns = [prefix+i for i in df.columns]\n",
    "\n",
    "    elif rare==True:\n",
    "        series = df[column].mask(df[column].map(df[column].value_counts(normalize=True)) < 0.01, 'other')\n",
    "        df = pd.DataFrame(series,columns=[column])\n",
    "        series = vectorizer.fit_transform(df[column])\n",
    "        df = pd.DataFrame(series.toarray(),columns=vectorizer.get_feature_names())\n",
    "        df.columns = [prefix+i for i in df.columns]\n",
    "\n",
    "    return df"
   ]
  },
  {
   "cell_type": "markdown",
   "metadata": {},
   "source": [
    "# NaN replacer"
   ]
  },
  {
   "cell_type": "code",
   "execution_count": 7,
   "metadata": {},
   "outputs": [],
   "source": [
    "def replace_nan(df, column):\n",
    "    most_frequent_value = df[column].value_counts().idxmax()\n",
    "    df[column].fillna(most_frequent_value,inplace=True)\n",
    "    df = df[[column]]\n",
    "    return df\n",
    "beds = replace_nan(data, 'beds')"
   ]
  },
  {
   "cell_type": "markdown",
   "metadata": {},
   "source": [
    "# PCT(%)"
   ]
  },
  {
   "cell_type": "code",
   "execution_count": 8,
   "metadata": {},
   "outputs": [],
   "source": [
    "def remove_pct(df, column):\n",
    "    df = pd.DataFrame(df[column].str.replace(\"%\",\"\"),columns=[column])\n",
    "    most_frequent_value = df[column].value_counts().idxmax()\n",
    "    df[column].fillna(most_frequent_value,inplace=True)\n",
    "    df[column] = df[column].astype(int)\n",
    "    return df"
   ]
  },
  {
   "cell_type": "markdown",
   "metadata": {},
   "source": [
    "# Cleaning_fee"
   ]
  },
  {
   "cell_type": "code",
   "execution_count": 9,
   "metadata": {},
   "outputs": [],
   "source": [
    "def cleaning_fee(df, column):\n",
    "    df = pd.DataFrame(df[column].str.replace(\"$\",\"\"),columns=[column])\n",
    "    df.fillna(0,inplace=True)\n",
    "    df[column] = df[column].astype(float)\n",
    "    return df"
   ]
  },
  {
   "cell_type": "markdown",
   "metadata": {},
   "source": [
    "# Target_preprocessing"
   ]
  },
  {
   "cell_type": "code",
   "execution_count": 10,
   "metadata": {},
   "outputs": [],
   "source": [
    "def pre_proc_price(df,column):\n",
    "    series = df[column].str.replace(r'$','')\n",
    "    series = series.str.replace(r',','')\n",
    "    df = pd.DataFrame(series,columns=[column])\n",
    "    df['price'] = pd.to_numeric(df['price'])\n",
    "    return df "
   ]
  },
  {
   "cell_type": "markdown",
   "metadata": {},
   "source": [
    "# Packaging it all together"
   ]
  },
  {
   "cell_type": "code",
   "execution_count": 43,
   "metadata": {},
   "outputs": [],
   "source": [
    "funcs = [tfidf_columns(data,text_columns),\n",
    "host_since(data),\n",
    "amenities(data, 'amenities'),\n",
    "ohe(data,'zipcode','zip_',False),\n",
    "ohe(data,'property_type', 'pr_tp_', rare=True),\n",
    "ohe(data,'room_type','rm_tp_',False),\n",
    "data[['accommodates']],\n",
    "replace_nan(data, 'bathrooms'),\n",
    "replace_nan(data, 'beds'),\n",
    "ohe(data,'bed_type','bd_tp_',True),\n",
    "data[['guests_included']],\n",
    "data[['minimum_nights']],\n",
    "data[['maximum_nights']],\n",
    "data[['number_of_reviews']],\n",
    "replace_nan(data, 'review_scores_rating'),\n",
    "replace_nan(data, 'review_scores_accuracy'),\n",
    "replace_nan(data, 'review_scores_cleanliness'),\n",
    "replace_nan(data, 'review_scores_checkin'),\n",
    "replace_nan(data, 'review_scores_communication'),\n",
    "replace_nan(data, 'review_scores_location'),\n",
    "replace_nan(data, 'review_scores_value'),\n",
    "data['instant_bookable'].replace({'f':0,'t':1}),\n",
    "ohe(data,'cancellation_policy','canc_pol_',False),\n",
    "data[['calculated_host_listings_count']],\n",
    "replace_nan(data,'reviews_per_month'),\n",
    "remove_pct(data, 'host_response_rate'),\n",
    "remove_pct(data, 'host_acceptance_rate'),\n",
    "cleaning_fee(data, 'cleaning_fee'),\n",
    "pre_proc_price(data,'price')]"
   ]
  },
  {
   "cell_type": "code",
   "execution_count": 44,
   "metadata": {},
   "outputs": [],
   "source": [
    "dataframes = []\n",
    "for function in funcs:\n",
    "    dataframes.append(function)\n",
    "ml_df = pd.concat(dataframes,axis=1)  "
   ]
  },
  {
   "cell_type": "code",
   "execution_count": 49,
   "metadata": {},
   "outputs": [],
   "source": [
    "X = ml_df[ml_df.columns[:-1]]\n",
    "y = ml_df[['price']]"
   ]
  },
  {
   "cell_type": "code",
   "execution_count": 54,
   "metadata": {},
   "outputs": [],
   "source": [
    "XGB = GradientBoostingRegressor()"
   ]
  },
  {
   "cell_type": "code",
   "execution_count": 55,
   "metadata": {},
   "outputs": [
    {
     "output_type": "execute_result",
     "data": {
      "text/plain": "GradientBoostingRegressor()"
     },
     "metadata": {},
     "execution_count": 55
    }
   ],
   "source": [
    "XGB.fit(X,y)"
   ]
  },
  {
   "cell_type": "code",
   "execution_count": 58,
   "metadata": {},
   "outputs": [
    {
     "output_type": "execute_result",
     "data": {
      "text/plain": "0.8748988684030226"
     },
     "metadata": {},
     "execution_count": 58
    }
   ],
   "source": [
    "XGB.score(X,y)"
   ]
  },
  {
   "cell_type": "code",
   "execution_count": 66,
   "metadata": {},
   "outputs": [],
   "source": [
    "x = pd.DataFrame(XGB.feature_importances_,X.columns,columns=['features'])"
   ]
  },
  {
   "cell_type": "code",
   "execution_count": 69,
   "metadata": {},
   "outputs": [
    {
     "output_type": "execute_result",
     "data": {
      "text/plain": "                           features\nbathrooms                  0.198337\naccommodates               0.152263\ncleaning_fee               0.054487\ndescription_luxury         0.053014\ndescription_months         0.032770\n...                             ...\ndescription_professionals  0.000000\ndescription_professional   0.000000\ndescription_privacy        0.000000\ndescription_prime          0.000000\ndescription_weekend        0.000000\n\n[2034 rows x 1 columns]",
      "text/html": "<div>\n<style scoped>\n    .dataframe tbody tr th:only-of-type {\n        vertical-align: middle;\n    }\n\n    .dataframe tbody tr th {\n        vertical-align: top;\n    }\n\n    .dataframe thead th {\n        text-align: right;\n    }\n</style>\n<table border=\"1\" class=\"dataframe\">\n  <thead>\n    <tr style=\"text-align: right;\">\n      <th></th>\n      <th>features</th>\n    </tr>\n  </thead>\n  <tbody>\n    <tr>\n      <th>bathrooms</th>\n      <td>0.198337</td>\n    </tr>\n    <tr>\n      <th>accommodates</th>\n      <td>0.152263</td>\n    </tr>\n    <tr>\n      <th>cleaning_fee</th>\n      <td>0.054487</td>\n    </tr>\n    <tr>\n      <th>description_luxury</th>\n      <td>0.053014</td>\n    </tr>\n    <tr>\n      <th>description_months</th>\n      <td>0.032770</td>\n    </tr>\n    <tr>\n      <th>...</th>\n      <td>...</td>\n    </tr>\n    <tr>\n      <th>description_professionals</th>\n      <td>0.000000</td>\n    </tr>\n    <tr>\n      <th>description_professional</th>\n      <td>0.000000</td>\n    </tr>\n    <tr>\n      <th>description_privacy</th>\n      <td>0.000000</td>\n    </tr>\n    <tr>\n      <th>description_prime</th>\n      <td>0.000000</td>\n    </tr>\n    <tr>\n      <th>description_weekend</th>\n      <td>0.000000</td>\n    </tr>\n  </tbody>\n</table>\n<p>2034 rows × 1 columns</p>\n</div>"
     },
     "metadata": {},
     "execution_count": 69
    }
   ],
   "source": [
    "x.sort_values(by='features',ascending=False)"
   ]
  }
 ]
}