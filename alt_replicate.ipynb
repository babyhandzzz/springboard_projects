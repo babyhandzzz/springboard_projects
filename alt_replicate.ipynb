{
 "cells": [
  {
   "cell_type": "code",
   "execution_count": null,
   "metadata": {},
   "outputs": [],
   "source": [
    "charge_insured = med_charges.charges[med_charges.insuranceclaim == 1.0]  \n",
    "charge_not_insured = med_charges.charges[med_charges.insuranceclaim == 0.0]\n",
    "\n",
    "# I didn't save the code for converting these arrays into a df.\n",
    "#charge_ins_df\n",
    "#charge_not_inusred\n",
    "\n",
    "concat_charges = pd.concat([charge_ins_df,charge_not_inusred])\n",
    "shuffled_charges = concat_charges.sample(frac=1) # not sure if I need this step\n",
    "# as I'm reshuffling the entire dataframe in the next loop.\n",
    "\n",
    "N = len(shuffled_charges)\n",
    "bs_pooled_std = []\n",
    "for i in range(10001):\n",
    "    bs_sample = shuffled_charges.sample(n=N,replace=True)\n",
    "    std_ins = bs_sample[bs_sample.insurance==1]['charges'].std()\n",
    "    std_ins_no_ins = bs_sample[bs_sample.insurance==0]['charges'].std()\n",
    "    \n",
    "    pooled_std = ((std_ins**2+std_ins_no_ins**2)/2)**0.5\n",
    "    # I was using the first formula presented in this article:\n",
    "    #https://www.statisticshowto.datasciencecentral.com/pooled-standard-deviation/\n",
    "    bs_pooled_std.append(pooled_std)\n",
    "\n",
    "conf_int = np.percentile(bs_pooled_std, [2.5, 97.5])\n",
    "\n",
    "#confidence intervals for this calculation are [10431.81681788, 11392.91141904]"
   ]
  }
 ],
 "metadata": {
  "kernelspec": {
   "display_name": "Python 3",
   "language": "python",
   "name": "python3"
  },
  "language_info": {
   "codemirror_mode": {
    "name": "ipython",
    "version": 3
   },
   "file_extension": ".py",
   "mimetype": "text/x-python",
   "name": "python",
   "nbconvert_exporter": "python",
   "pygments_lexer": "ipython3",
   "version": "3.7.5"
  }
 },
 "nbformat": 4,
 "nbformat_minor": 4
}
