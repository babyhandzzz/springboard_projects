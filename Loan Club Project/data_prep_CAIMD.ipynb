{
 "cells": [
  {
   "cell_type": "code",
   "execution_count": 1,
   "metadata": {},
   "outputs": [
    {
     "name": "stdout",
     "output_type": "stream",
     "text": [
      "Using matplotlib backend: MacOSX\n"
     ]
    }
   ],
   "source": [
    "import pandas as pd\n",
    "import numpy as np\n",
    "import matplotlib.pyplot as plt\n",
    "import dtale\n",
    "from caimcaim import CAIMD # https://github.com/airysen/caimcaim - not working for me.\n",
    "from sklearn import preprocessing\n",
    "from sklearn.preprocessing import OneHotEncoder\n",
    "from sklearn.preprocessing import LabelBinarizer\n",
    "from sklearn.model_selection import train_test_split\n",
    "#from sklearn.preprocessing import KBinsDiscretizer\n",
    "from sklearn.model_selection import StratifiedShuffleSplit\n",
    "from feature_engine.categorical_encoders import OneHotCategoricalEncoder\n",
    "from feature_engine import outlier_removers as outr\n",
    "from feature_engine import categorical_encoders as ce\n",
    "\n",
    "# Display options\n",
    "\n",
    "%matplotlib\n",
    "%matplotlib inline\n",
    "#pd.options.mode.chained_assignment = None #set it to None to remove SettingWithCopyWarning\n",
    "pd.options.display.float_format = '{:.4f}'.format #set it to convert scientific noations such as 4.225108e+11 to 422510842796.00\n",
    "pd.set_option('display.max_columns', 100) #  display all the columns\n",
    "#pd.set_option('display.max_rows', 100) # display all the rows\n",
    "np.set_printoptions(suppress=True,formatter={'float_kind':'{:f}'.format})"
   ]
  },
  {
   "cell_type": "code",
   "execution_count": null,
   "metadata": {},
   "outputs": [],
   "source": [
    "def remove_single_unique_values(dataframe):\n",
    "    \n",
    "    \"\"\"\n",
    "    Drop all the columns that only contain one unique value.\n",
    "    not optimized for categorical features yet.\n",
    "    \n",
    "    \"\"\"    \n",
    "    cols_to_drop = dataframe.nunique()\n",
    "    cols_to_drop = cols_to_drop.loc[cols_to_drop.values==1].index\n",
    "    dataframe = dataframe.drop(cols_to_drop,axis=1)\n",
    "    return dataframe"
   ]
  },
  {
   "cell_type": "markdown",
   "metadata": {},
   "source": [
    "# Loading Data"
   ]
  },
  {
   "cell_type": "code",
   "execution_count": 100,
   "metadata": {},
   "outputs": [
    {
     "name": "stdout",
     "output_type": "stream",
     "text": [
      "df is loaded\n",
      "(2260668, 98)\n"
     ]
    }
   ],
   "source": [
    "df = pd.read_csv('Data/loan.csv')\n",
    "print('df is loaded')\n",
    "df.drop(['issue_d','earliest_cr_line','last_pymnt_d',\n",
    "        'last_credit_pull_d','id','member_id','settlement_date',\n",
    "        'next_pymnt_d','zip_code'],axis='columns',inplace=True)\n",
    "\n",
    "df = df.infer_objects()\n",
    "df.dropna(axis=1,how='any',thresh=int(0.3*len(df)),inplace=True)\n",
    "print(df.shape)"
   ]
  },
  {
   "cell_type": "markdown",
   "metadata": {},
   "source": [
    "# Train test split"
   ]
  },
  {
   "cell_type": "code",
   "execution_count": 91,
   "metadata": {},
   "outputs": [],
   "source": [
    "# loading data, dropping features with single unique values\n",
    "\n",
    "y = df[['loan_status']]\n",
    "X = df.drop('loan_status',axis='columns')\n",
    "\n",
    "X_train, X_test, y_train, y_test = train_test_split(X, y, test_size=0.25, \n",
    "                                            random_state=42, stratify=None)"
   ]
  },
  {
   "cell_type": "markdown",
   "metadata": {},
   "source": [
    "# Dividing data into categorical and numerical parts"
   ]
  },
  {
   "cell_type": "code",
   "execution_count": 92,
   "metadata": {},
   "outputs": [],
   "source": [
    "# dividing training and testing data into categorical and numerical parts\n",
    "ctgrcl_X_train = X_train.select_dtypes(include=['object'])\n",
    "nmrcl_X_train = X_train.select_dtypes(exclude=['object'])\n",
    "\n",
    "ctgrcl_X_test = X_test.select_dtypes(include=['object'])\n",
    "nmrcl_X_test = X_test.select_dtypes(exclude=['object'])\n",
    "\n",
    "print(nmrcl_X_train.shape)\n",
    "print(nmrcl_X_test.shape)\n",
    "print('********')\n",
    "print(ctgrcl_X_train.shape)\n",
    "print(ctgrcl_X_test.shape)"
   ]
  },
  {
   "cell_type": "markdown",
   "metadata": {},
   "source": [
    "# Initial cleaning"
   ]
  },
  {
   "cell_type": "code",
   "execution_count": 94,
   "metadata": {},
   "outputs": [
    {
     "name": "stdout",
     "output_type": "stream",
     "text": [
      "(1695501, 80)\n"
     ]
    }
   ],
   "source": [
    "# cleaning\n",
    "nmrcl_X_train = nmrcl_X_train.fillna(nmrcl_X_train.median())\n",
    "\n",
    "# train medians have to be saved as a pd.Series object othervise replace() \n",
    "# method does not work when replacing NaN in testing df.\n",
    "nmrcl_X_train_medians = pd.Series(nmrcl_X_train.median())\n",
    "nmrcl_X_train = remove_single_unique_values(nmrcl_X_train)\n",
    "print(nmrcl_X_train.shape)\n"
   ]
  },
  {
   "cell_type": "markdown",
   "metadata": {},
   "source": [
    "# Outlier Treatment"
   ]
  },
  {
   "cell_type": "code",
   "execution_count": 96,
   "metadata": {},
   "outputs": [
    {
     "name": "stdout",
     "output_type": "stream",
     "text": [
      "(1695501, 80)\n"
     ]
    }
   ],
   "source": [
    "# outlier treatment\n",
    "capper = outr.Winsorizer(distribution='skewed', tail='both', fold=1.5)\n",
    "capper.fit(nmrcl_X_train)\n",
    "nmrcl_X_train_columns = nmrcl_X_train.columns\n",
    "nmrcl_X_train = capper.transform(nmrcl_X_train)\n",
    "print(nmrcl_X_train.shape)\n",
    "\n",
    "nmrcl_X_test = nmrcl_X_test[nmrcl_X_train_columns]\n",
    "nmrcl_X_test.fillna(nmrcl_X_train_medians,inplace=True)\n",
    "nmrcl_X_test = capper.transform(nmrcl_X_test)"
   ]
  },
  {
   "cell_type": "code",
   "execution_count": 98,
   "metadata": {},
   "outputs": [],
   "source": [
    "# saving columns and indexes before discretization and rescaling\n",
    "num_train_cols = nmrcl_X_train.columns\n",
    "num_train_index = nmrcl_X_train.index\n",
    "\n",
    "num_train_cols = nmrcl_X_test.columns\n",
    "num_train_index = nmrcl_X_test.index"
   ]
  },
  {
   "cell_type": "markdown",
   "metadata": {},
   "source": [
    "# Discretizing"
   ]
  },
  {
   "cell_type": "code",
   "execution_count": null,
   "metadata": {},
   "outputs": [],
   "source": [
    "# It does not matter if I use KBinsDiscretizer or CAIMD, I end up having columns that \n",
    "# only have 1 unique value useless for any machine learning.\n",
    "caim = CAIMD()\n",
    "caim.fit(nmrcl_X_train,y_train)\n",
    "nmrcl_X_train_discr = caim.transform(nmrcl_X_train)\n",
    "nmrcl_X_test_discr = caim.transform(nmrcl_X_train)"
   ]
  },
  {
   "cell_type": "markdown",
   "metadata": {},
   "source": [
    "# Rescaling"
   ]
  },
  {
   "cell_type": "code",
   "execution_count": 74,
   "metadata": {},
   "outputs": [],
   "source": [
    "scaler = preprocessing.MinMaxScaler()\n",
    "scaler.fit(nmrcl_X_train_discr)\n",
    "nmrcl_X_train_discr_rscld = scaler.transform(nmrcl_X_train_discr)\n",
    "nmrcl_X_test_discr_rscld = scaler.transform(nmrcl_X_test_discr)"
   ]
  },
  {
   "cell_type": "code",
   "execution_count": 78,
   "metadata": {},
   "outputs": [
    {
     "data": {
      "text/plain": [
       "True"
      ]
     },
     "execution_count": 78,
     "metadata": {},
     "output_type": "execute_result"
    }
   ],
   "source": [
    "# a quick check to make sure df shapes are the same.\n",
    "print(nmrcl_X_test_discr_rscld.shape == nmrcl_X_train_discr_rscld.shape)\n",
    "print(nmrcl_X_train_discr_rscld.shape)\n",
    "print(nmrcl_X_test_discr_rscld.shape)"
   ]
  },
  {
   "cell_type": "markdown",
   "metadata": {},
   "source": [
    "# Treating categorical data"
   ]
  },
  {
   "cell_type": "code",
   "execution_count": 81,
   "metadata": {},
   "outputs": [
    {
     "name": "stderr",
     "output_type": "stream",
     "text": [
      "/Users/babyhandzzz/anaconda3/lib/python3.7/site-packages/pandas/core/frame.py:4259: SettingWithCopyWarning: \n",
      "A value is trying to be set on a copy of a slice from a DataFrame\n",
      "\n",
      "See the caveats in the documentation: http://pandas.pydata.org/pandas-docs/stable/user_guide/indexing.html#returning-a-view-versus-a-copy\n",
      "  **kwargs\n"
     ]
    }
   ],
   "source": [
    "ctgrcl_X_train.fillna('other',inplace=True)\n",
    "ctgrcl_X_test.fillna('other',inplace=True)"
   ]
  },
  {
   "cell_type": "code",
   "execution_count": 83,
   "metadata": {},
   "outputs": [],
   "source": [
    "encoder = ce.RareLabelCategoricalEncoder(tol=0.01)\n",
    "encoder.fit(ctgrcl_X_train)\n",
    "\n",
    "\"\"\"\n",
    "The default behaviour of the function is such that it replaces infrequent categories with\n",
    "the word \"Rare\" which would be fine if the dataframe didn't have category 'other',\n",
    "that's why 'replace' method is used\n",
    "\"\"\"\n",
    "\n",
    "ctgrcl_X_train = encoder.transform(ctgrcl_X_train)\n",
    "ctgrcl_X_train.replace('Rare','other',inplace=True)\n",
    "ctgrcl_X_test = encoder.transform(ctgrcl_X_test)\n",
    "ctgrcl_X_test.replace('Rare','other',inplace=True)\n",
    "\n",
    "# quick check to make sure that the categories are the same.\n",
    "ctgrcl_X_test.nunique() == ctgrcl_X_train.nunique()"
   ]
  },
  {
   "cell_type": "code",
   "execution_count": 84,
   "metadata": {},
   "outputs": [
    {
     "data": {
      "text/plain": [
       "term                    True\n",
       "grade                   True\n",
       "sub_grade               True\n",
       "emp_title               True\n",
       "emp_length              True\n",
       "home_ownership          True\n",
       "verification_status     True\n",
       "pymnt_plan              True\n",
       "purpose                 True\n",
       "title                   True\n",
       "addr_state              True\n",
       "initial_list_status     True\n",
       "application_type        True\n",
       "hardship_flag           True\n",
       "disbursement_method     True\n",
       "debt_settlement_flag    True\n",
       "dtype: bool"
      ]
     },
     "execution_count": 84,
     "metadata": {},
     "output_type": "execute_result"
    }
   ],
   "source": [
    "\n"
   ]
  },
  {
   "cell_type": "markdown",
   "metadata": {},
   "source": [
    "# OneHotEncoding and stacking all the frames together"
   ]
  },
  {
   "cell_type": "code",
   "execution_count": 85,
   "metadata": {},
   "outputs": [],
   "source": [
    "# OneHotEncoding for categorical variables\n",
    "ohe_enc = OneHotCategoricalEncoder(\n",
    "    top_categories=None,\n",
    "    drop_last=True)\n",
    "\n",
    "ohe_enc.fit(ctgrcl_X_train)\n",
    "\n",
    "ctgrcl_X_train = ohe_enc.transform(ctgrcl_X_train)\n",
    "ctgrcl_X_test = ohe_enc.transform(ctgrcl_X_test)"
   ]
  },
  {
   "cell_type": "code",
   "execution_count": 1197,
   "metadata": {},
   "outputs": [
    {
     "name": "stdout",
     "output_type": "stream",
     "text": [
      "(1695501, 101)\n",
      "(565167, 101)\n"
     ]
    }
   ],
   "source": [
    "print(ctgrcl_X_train.shape)\n",
    "print(ctgrcl_X_test.shape)\n"
   ]
  },
  {
   "cell_type": "code",
   "execution_count": 1212,
   "metadata": {},
   "outputs": [],
   "source": [
    "# After rescaling a 2D numpy is returned, the following procedure\n",
    "# turns it into a pandas df and stacks it together with the\n",
    "# categorical dummies.\n",
    "\n",
    "nmrcl_X_train_discr_rescl = pd.DataFrame(nmrcl_X_train_discr_rescl)\n",
    "nmrcl_X_test_discr_rescl= pd.DataFrame(nmrcl_X_test_discr_rescl) \n",
    "\n",
    "nmrcl_X_train_discr_rescl.index = ctgrcl_X_train.index\n",
    "nmrcl_X_test_discr_rescl.index = ctgrcl_X_test.index\n",
    "\n",
    "nmrcl_X_train_discr_rescl.columns = nmrcl_X_train_columns\n",
    "nmrcl_X_test_discr_rescl.columns = nmrcl_X_train_columns\n"
   ]
  },
  {
   "cell_type": "code",
   "execution_count": 1215,
   "metadata": {},
   "outputs": [],
   "source": [
    "final_train = pd.concat([nmrcl_X_train_discr_rescl,ctgrcl_X_train,y_train],axis=1)\n",
    "final_test = pd.concat([nmrcl_X_test_discr_rescl,ctgrcl_X_test,y_test],axis=1)\n"
   ]
  },
  {
   "cell_type": "code",
   "execution_count": null,
   "metadata": {},
   "outputs": [],
   "source": [
    "final_train.to_csv('Data/loan_club_train.csv')\n",
    "final_test.to_csv('Data/loan_club_test.csv')"
   ]
  },
  {
   "cell_type": "code",
   "execution_count": 1216,
   "metadata": {},
   "outputs": [
    {
     "name": "stdout",
     "output_type": "stream",
     "text": [
      "(1695501, 182)\n",
      "(565167, 182)\n"
     ]
    }
   ],
   "source": [
    "print(final_train.shape)\n",
    "print(final_test.shape)"
   ]
  }
 ],
 "metadata": {
  "kernelspec": {
   "display_name": "Python 3",
   "language": "python",
   "name": "python3"
  },
  "language_info": {
   "codemirror_mode": {
    "name": "ipython",
    "version": 3
   },
   "file_extension": ".py",
   "mimetype": "text/x-python",
   "name": "python",
   "nbconvert_exporter": "python",
   "pygments_lexer": "ipython3",
   "version": "3.7.5"
  }
 },
 "nbformat": 4,
 "nbformat_minor": 4
}
