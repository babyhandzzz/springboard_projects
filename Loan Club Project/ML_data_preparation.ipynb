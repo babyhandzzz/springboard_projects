{
 "cells": [
  {
   "cell_type": "code",
   "execution_count": null,
   "metadata": {},
   "outputs": [],
   "source": [
    "import pandas as pd\n",
    "import numpy as np\n",
    "import matplotlib.pyplot as plt\n",
    "import dtale\n",
    "#from caimcaim import CAIMD # https://github.com/airysen/caimcaim - not working for me.\n",
    "from sklearn import preprocessing\n",
    "from sklearn.preprocessing import OneHotEncoder\n",
    "from sklearn.preprocessing import LabelBinarizer\n",
    "from sklearn.model_selection import train_test_split\n",
    "from sklearn.preprocessing import KBinsDiscretizer\n",
    "from sklearn.model_selection import StratifiedShuffleSplit\n",
    "from feature_engine.categorical_encoders import OneHotCategoricalEncoder\n",
    "from feature_engine import outlier_removers as outr\n",
    "from feature_engine import categorical_encoders as ce\n",
    "\n",
    "# Display options\n",
    "\n",
    "%matplotlib\n",
    "%matplotlib inline\n",
    "#pd.options.mode.chained_assignment = None #set it to None to remove SettingWithCopyWarning\n",
    "pd.options.display.float_format = '{:.4f}'.format #set it to convert scientific noations such as 4.225108e+11 to 422510842796.00\n",
    "pd.set_option('display.max_columns', 100) #  display all the columns\n",
    "#pd.set_option('display.max_rows', 100) # display all the rows\n",
    "np.set_printoptions(suppress=True,formatter={'float_kind':'{:f}'.format})"
   ]
  },
  {
   "cell_type": "code",
   "execution_count": 1128,
   "metadata": {},
   "outputs": [
    {
     "name": "stderr",
     "output_type": "stream",
     "text": [
      "/Users/babyhandzzz/anaconda3/lib/python3.7/site-packages/IPython/core/interactiveshell.py:3058: DtypeWarning:\n",
      "\n",
      "Columns (19,47,55,112,123,124,125,128,129,130,133,139,140,141) have mixed types. Specify dtype option on import or set low_memory=False.\n",
      "\n"
     ]
    },
    {
     "name": "stdout",
     "output_type": "stream",
     "text": [
      "df is loaded\n"
     ]
    }
   ],
   "source": [
    "# loading data\n",
    "df = pd.read_csv('Data/loan.csv')\n",
    "print('df is loaded')\n",
    "df.drop(['issue_d','earliest_cr_line','last_pymnt_d',\n",
    "        'last_credit_pull_d','id','member_id','settlement_date',\n",
    "        'next_pymnt_d','zip_code'],axis='columns',inplace=True)\n"
   ]
  },
  {
   "cell_type": "code",
   "execution_count": 1129,
   "metadata": {},
   "outputs": [
    {
     "name": "stdout",
     "output_type": "stream",
     "text": [
      "(2260668, 136)\n"
     ]
    }
   ],
   "source": [
    "df = df.infer_objects()\n",
    "print(df.shape)\n"
   ]
  },
  {
   "cell_type": "code",
   "execution_count": 1130,
   "metadata": {},
   "outputs": [
    {
     "name": "stdout",
     "output_type": "stream",
     "text": [
      "(2260668, 98)\n"
     ]
    }
   ],
   "source": [
    "df.dropna(axis=1,how='any',thresh=int(0.3*len(df)),inplace=True)\n",
    "print(df.shape)"
   ]
  },
  {
   "cell_type": "code",
   "execution_count": 1131,
   "metadata": {},
   "outputs": [],
   "source": [
    "def remove_single_unique_values(dataframe):\n",
    "    \n",
    "    \"\"\"\n",
    "    Drop all the columns that only contain one unique value.\n",
    "    not optimized for categorical features yet.\n",
    "    \n",
    "    \"\"\"    \n",
    "    cols_to_drop = dataframe.nunique()\n",
    "    cols_to_drop = cols_to_drop.loc[cols_to_drop.values==1].index\n",
    "    dataframe = dataframe.drop(cols_to_drop,axis=1)\n",
    "    return dataframe\n"
   ]
  },
  {
   "cell_type": "markdown",
   "metadata": {},
   "source": [
    "# Train test split"
   ]
  },
  {
   "cell_type": "code",
   "execution_count": 1167,
   "metadata": {},
   "outputs": [],
   "source": [
    "# loading data, dropping features with single unique values\n",
    "\n",
    "y = df[['loan_status']]\n",
    "X = df.drop('loan_status',axis='columns')\n",
    "\n",
    "X_train, X_test, y_train, y_test = train_test_split(X, y, test_size=0.25, \n",
    "                                            random_state=42, stratify=None)\n"
   ]
  },
  {
   "cell_type": "markdown",
   "metadata": {},
   "source": [
    "# Dividing data into categorical and numerical parts"
   ]
  },
  {
   "cell_type": "code",
   "execution_count": 1168,
   "metadata": {},
   "outputs": [],
   "source": [
    "# dividing training and testing data into categorical and numerical parts\n",
    "ctgrcl_X_train = X_train.select_dtypes(include=['object'])\n",
    "nmrcl_X_train = X_train.select_dtypes(exclude=['object'])\n",
    "\n",
    "ctgrcl_X_test = X_test.select_dtypes(include=['object'])\n",
    "nmrcl_X_test = X_test.select_dtypes(exclude=['object'])"
   ]
  },
  {
   "cell_type": "code",
   "execution_count": 1169,
   "metadata": {},
   "outputs": [
    {
     "name": "stdout",
     "output_type": "stream",
     "text": [
      "(1695501, 81)\n",
      "(565167, 81)\n",
      "********\n",
      "(1695501, 16)\n",
      "(565167, 16)\n"
     ]
    }
   ],
   "source": [
    "print(nmrcl_X_train.shape)\n",
    "print(nmrcl_X_test.shape)\n",
    "print('********')\n",
    "print(ctgrcl_X_train.shape)\n",
    "print(ctgrcl_X_test.shape)"
   ]
  },
  {
   "cell_type": "markdown",
   "metadata": {},
   "source": [
    "# Outlier Treatment (Training part)"
   ]
  },
  {
   "cell_type": "code",
   "execution_count": 1170,
   "metadata": {},
   "outputs": [
    {
     "name": "stdout",
     "output_type": "stream",
     "text": [
      "(1695501, 80)\n"
     ]
    }
   ],
   "source": [
    "# cleaning\n",
    "nmrcl_X_train = nmrcl_X_train.fillna(nmrcl_X_train.median())\n",
    "nmrcl_X_train_medians = pd.Series(nmrcl_X_train.median())\n",
    "nmrcl_X_train = remove_single_unique_values(nmrcl_X_train)\n",
    "print(nmrcl_X_train.shape)\n"
   ]
  },
  {
   "cell_type": "code",
   "execution_count": 1171,
   "metadata": {},
   "outputs": [
    {
     "name": "stdout",
     "output_type": "stream",
     "text": [
      "(1695501, 80)\n"
     ]
    }
   ],
   "source": [
    "# outlier treatment\n",
    "capper = outr.Winsorizer(distribution='skewed', tail='both', fold=1.5)\n",
    "capper.fit(nmrcl_X_train)\n",
    "nmrcl_X_train_columns = nmrcl_X_train.columns\n",
    "nmrcl_X_train = capper.transform(nmrcl_X_train)\n",
    "print(nmrcl_X_train.shape)\n"
   ]
  },
  {
   "cell_type": "markdown",
   "metadata": {},
   "source": [
    "# Outlier Treatment Testing part"
   ]
  },
  {
   "cell_type": "code",
   "execution_count": 1172,
   "metadata": {},
   "outputs": [],
   "source": [
    "nmrcl_X_test = nmrcl_X_test[nmrcl_X_train_columns]\n",
    "nmrcl_X_test.fillna(nmrcl_X_train_medians,inplace=True)\n",
    "nmrcl_X_test = capper.transform(nmrcl_X_test)\n"
   ]
  },
  {
   "cell_type": "code",
   "execution_count": 1178,
   "metadata": {},
   "outputs": [],
   "source": [
    "# saving columns and indexes before discretization and rescaling\n",
    "\n",
    "num_train_cols = nmrcl_X_train.columns\n",
    "num_train_index = nmrcl_X_train.index\n",
    "\n",
    "num_train_cols = nmrcl_X_test.columns\n",
    "num_train_index = nmrcl_X_test.index"
   ]
  },
  {
   "cell_type": "markdown",
   "metadata": {},
   "source": [
    "# Discretizing and rescaling"
   ]
  },
  {
   "cell_type": "code",
   "execution_count": null,
   "metadata": {},
   "outputs": [],
   "source": [
    "# Discretization\n",
    "discretizer = KBinsDiscretizer(n_bins=12, encode='ordinal', strategy='kmeans')\n",
    "discretizer.fit(nmrcl_X_train)\n",
    "nmrcl_X_train_discr = discretizer.transform(nmrcl_X_train)\n",
    "\n",
    "print('train discretization - done')\n",
    "\n",
    "# Min_max\n",
    "scaler = preprocessing.MinMaxScaler()\n",
    "scaler.fit(nmrcl_X_train_discr)\n",
    "5 = scaler.transform(nmrcl_X_train_discr)\n",
    "print('train rescaling - done')\n",
    "\n",
    "nmrcl_X_test_discr = discretizer.transform(nmrcl_X_test)\n",
    "print('test discretization  - done')\n",
    "nmrcl_X_test_discr_rescl = scaler.transform(nmrcl_X_test_discr)\n",
    "print('test rescaling - done')\n"
   ]
  },
  {
   "cell_type": "code",
   "execution_count": 1186,
   "metadata": {},
   "outputs": [
    {
     "name": "stdout",
     "output_type": "stream",
     "text": [
      "(1695501, 80)\n",
      "(565167, 80)\n"
     ]
    }
   ],
   "source": [
    "print(nmrcl_X_train_discr_rescl.shape)\n",
    "print(nmrcl_X_test_discr_rescl.shape)"
   ]
  },
  {
   "cell_type": "markdown",
   "metadata": {},
   "source": [
    "# Treating categorical data"
   ]
  },
  {
   "cell_type": "code",
   "execution_count": 1187,
   "metadata": {},
   "outputs": [
    {
     "name": "stderr",
     "output_type": "stream",
     "text": [
      "/Users/babyhandzzz/anaconda3/lib/python3.7/site-packages/pandas/core/frame.py:4259: SettingWithCopyWarning:\n",
      "\n",
      "\n",
      "A value is trying to be set on a copy of a slice from a DataFrame\n",
      "\n",
      "See the caveats in the documentation: http://pandas.pydata.org/pandas-docs/stable/user_guide/indexing.html#returning-a-view-versus-a-copy\n",
      "\n"
     ]
    }
   ],
   "source": [
    "ctgrcl_X_train.fillna('other',inplace=True)\n",
    "ctgrcl_X_test.fillna('other',inplace=True)\n"
   ]
  },
  {
   "cell_type": "code",
   "execution_count": 1190,
   "metadata": {},
   "outputs": [],
   "source": [
    "encoder = ce.RareLabelCategoricalEncoder(tol=0.01)\n",
    "encoder.fit(ctgrcl_X_train)\n",
    "\n",
    "\"\"\"\n",
    "The default behaviour of the function is such that it replaces infrequent categories with\n",
    "the word \"Rare\" which would be fine if the dataframe didn't have category 'other',\n",
    "that's why 'replace' method is used\n",
    "\"\"\"\n",
    "\n",
    "ctgrcl_X_train = encoder.transform(ctgrcl_X_train)\n",
    "ctgrcl_X_train.replace('Rare','other',inplace=True)\n",
    "ctgrcl_X_test = encoder.transform(ctgrcl_X_test)\n",
    "ctgrcl_X_test.replace('Rare','other',inplace=True)\n"
   ]
  },
  {
   "cell_type": "code",
   "execution_count": 1195,
   "metadata": {},
   "outputs": [
    {
     "data": {
      "text/plain": [
       "term                    True\n",
       "grade                   True\n",
       "sub_grade               True\n",
       "emp_title               True\n",
       "emp_length              True\n",
       "home_ownership          True\n",
       "verification_status     True\n",
       "pymnt_plan              True\n",
       "purpose                 True\n",
       "title                   True\n",
       "addr_state              True\n",
       "initial_list_status     True\n",
       "application_type        True\n",
       "hardship_flag           True\n",
       "disbursement_method     True\n",
       "debt_settlement_flag    True\n",
       "dtype: bool"
      ]
     },
     "execution_count": 1195,
     "metadata": {},
     "output_type": "execute_result"
    }
   ],
   "source": [
    "ctgrcl_X_test.nunique() == ctgrcl_X_train.nunique()\n"
   ]
  },
  {
   "cell_type": "markdown",
   "metadata": {},
   "source": [
    "# OneHotEncoding and stacking all the frames together"
   ]
  },
  {
   "cell_type": "code",
   "execution_count": 1196,
   "metadata": {},
   "outputs": [],
   "source": [
    "# OneHotEncoding for categorical variables\n",
    "ohe_enc = OneHotCategoricalEncoder(\n",
    "    top_categories=None,\n",
    "    drop_last=True)\n",
    "\n",
    "ohe_enc.fit(ctgrcl_X_train)\n",
    "\n",
    "ctgrcl_X_train = ohe_enc.transform(ctgrcl_X_train)\n",
    "ctgrcl_X_test = ohe_enc.transform(ctgrcl_X_test)\n"
   ]
  },
  {
   "cell_type": "code",
   "execution_count": 1197,
   "metadata": {},
   "outputs": [
    {
     "name": "stdout",
     "output_type": "stream",
     "text": [
      "(1695501, 101)\n",
      "(565167, 101)\n"
     ]
    }
   ],
   "source": [
    "print(ctgrcl_X_train.shape)\n",
    "print(ctgrcl_X_test.shape)\n"
   ]
  },
  {
   "cell_type": "code",
   "execution_count": 1212,
   "metadata": {},
   "outputs": [],
   "source": [
    "# After rescaling a 2D numpy is returned, the following procedure\n",
    "# turns it into a pandas df and stacks it together with the\n",
    "# categorical dummies.\n",
    "\n",
    "nmrcl_X_train_discr_rescl = pd.DataFrame(nmrcl_X_train_discr_rescl)\n",
    "nmrcl_X_test_discr_rescl= pd.DataFrame(nmrcl_X_test_discr_rescl) \n",
    "\n",
    "nmrcl_X_train_discr_rescl.index = ctgrcl_X_train.index\n",
    "nmrcl_X_test_discr_rescl.index = ctgrcl_X_test.index\n",
    "\n",
    "nmrcl_X_train_discr_rescl.columns = nmrcl_X_train_columns\n",
    "nmrcl_X_test_discr_rescl.columns = nmrcl_X_train_columns\n"
   ]
  },
  {
   "cell_type": "code",
   "execution_count": 1215,
   "metadata": {},
   "outputs": [],
   "source": [
    "final_train = pd.concat([nmrcl_X_train_discr_rescl,ctgrcl_X_train,y_train],axis=1)\n",
    "final_test = pd.concat([nmrcl_X_test_discr_rescl,ctgrcl_X_test,y_test],axis=1)\n"
   ]
  },
  {
   "cell_type": "code",
   "execution_count": null,
   "metadata": {},
   "outputs": [],
   "source": [
    "final_train.to_csv('Data/loan_club_train.csv')\n",
    "final_test.to_csv('Data/loan_club_test.csv')"
   ]
  },
  {
   "cell_type": "code",
   "execution_count": 1216,
   "metadata": {},
   "outputs": [
    {
     "name": "stdout",
     "output_type": "stream",
     "text": [
      "(1695501, 182)\n",
      "(565167, 182)\n"
     ]
    }
   ],
   "source": [
    "print(final_train.shape)\n",
    "print(final_test.shape)"
   ]
  }
 ],
 "metadata": {
  "kernelspec": {
   "display_name": "Python 3",
   "language": "python",
   "name": "python3"
  },
  "language_info": {
   "codemirror_mode": {
    "name": "ipython",
    "version": 3
   },
   "file_extension": ".py",
   "mimetype": "text/x-python",
   "name": "python",
   "nbconvert_exporter": "python",
   "pygments_lexer": "ipython3",
   "version": "3.7.5"
  }
 },
 "nbformat": 4,
 "nbformat_minor": 4
}
