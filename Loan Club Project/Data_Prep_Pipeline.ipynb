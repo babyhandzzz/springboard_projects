{
 "cells": [
  {
   "cell_type": "code",
   "execution_count": 197,
   "metadata": {},
   "outputs": [
    {
     "name": "stdout",
     "output_type": "stream",
     "text": [
      "Using matplotlib backend: MacOSX\n"
     ]
    }
   ],
   "source": [
    "import pandas as pd\n",
    "import numpy as np\n",
    "import dtale\n",
    "#from caimcaim import CAIMD\n",
    "from sklearn.preprocessing import MinMaxScaler\n",
    "from sklearn.preprocessing import LabelEncoder\n",
    "#from sklearn.preprocessing import OneHotEncoder\n",
    "from sklearn.preprocessing import LabelBinarizer\n",
    "from sklearn.preprocessing import KBinsDiscretizer\n",
    "\n",
    "from sklearn.pipeline import make_pipeline\n",
    "from sklearn.pipeline import Pipeline\n",
    "\n",
    "from sklearn.model_selection import train_test_split\n",
    "from sklearn.model_selection import StratifiedShuffleSplit\n",
    "\n",
    "from feature_engine import outlier_removers \n",
    "from feature_engine.categorical_encoders import OneHotCategoricalEncoder\n",
    "from feature_engine.categorical_encoders import RareLabelCategoricalEncoder \n",
    "\n",
    "# Display options\n",
    "\n",
    "%matplotlib\n",
    "%matplotlib inline\n",
    "#pd.options.mode.chained_assignment = None #set it to None to remove SettingWithCopyWarning\n",
    "pd.options.display.float_format = '{:.4f}'.format #set it to convert scientific noations such as 4.225108e+11 to 422510842796.00\n",
    "pd.set_option('display.max_columns', 100) #  display all the columns\n",
    "pd.set_option('display.max_rows', 100) # display all the rows\n",
    "np.set_printoptions(suppress=True,formatter={'float_kind':'{:f}'.format})\n",
    "\n",
    "\n",
    "def remove_single_unique_value_features(dataframe):\n",
    "    \n",
    "    \"\"\"\n",
    "    Drop all the columns that only contain one unique value.\n",
    "    not optimized for categorical features yet.\n",
    "    \n",
    "    \"\"\"    \n",
    "    cols_to_drop = dataframe.nunique()\n",
    "    cols_to_drop = cols_to_drop.loc[cols_to_drop.values==1].index\n",
    "    dataframe = dataframe.drop(cols_to_drop,axis=1)\n",
    "    return dataframe"
   ]
  },
  {
   "cell_type": "markdown",
   "metadata": {},
   "source": [
    "# Loading Data"
   ]
  },
  {
   "cell_type": "code",
   "execution_count": 213,
   "metadata": {},
   "outputs": [
    {
     "name": "stderr",
     "output_type": "stream",
     "text": [
      "/Users/babyhandzzz/anaconda3/lib/python3.7/site-packages/IPython/core/interactiveshell.py:3063: DtypeWarning: Columns (19,47,55,112,123,124,125,128,129,130,133,139,140,141) have mixed types.Specify dtype option on import or set low_memory=False.\n",
      "  interactivity=interactivity, compiler=compiler, result=result)\n"
     ]
    },
    {
     "name": "stdout",
     "output_type": "stream",
     "text": [
      "df is loaded\n",
      "(2260668, 92)\n"
     ]
    }
   ],
   "source": [
    "df = pd.read_csv('Data/loan.csv')\n",
    "print('df is loaded')\n",
    "\n",
    "# the list contains features that are either proven useless or introduce look-ahead bias into data.\n",
    "list_to_remove = ['last_pymnt_amnt','total_rec_prncp','total_pymnt',\n",
    "                  'total_pymnt_inv','total_rec_int','total_rec_late_fee','total_rec_prncp',\n",
    "                  'issue_d','earliest_cr_line','last_pymnt_d',\n",
    "                  'last_credit_pull_d','id','member_id','settlement_date',\n",
    "                  'next_pymnt_d','zip_code']\n",
    "\n",
    "df.drop(list_to_remove,axis='columns',inplace=True)\n",
    "\n",
    "df = df.infer_objects()\n",
    "# drop any features that have more than 30% of NaN values in them.\n",
    "df.dropna(axis=1,how='any',thresh=int(0.3*len(df)),inplace=True)\n",
    "print(df.shape)"
   ]
  },
  {
   "cell_type": "markdown",
   "metadata": {},
   "source": [
    "# Label Manipulations\n",
    "* Specific to the dataset"
   ]
  },
  {
   "cell_type": "code",
   "execution_count": 216,
   "metadata": {},
   "outputs": [
    {
     "data": {
      "text/plain": [
       "Fully Paid    0.7991\n",
       "Charged Off   0.2009\n",
       "Name: loan_status, dtype: float64"
      ]
     },
     "execution_count": 216,
     "metadata": {},
     "output_type": "execute_result"
    }
   ],
   "source": [
    "labels_to_drop = ['Current','Late (31-120 days)','Late (16-30 days)','In Grace Period','Default']\n",
    "df = df[~df.loan_status.isin(labels_to_drop)]\n",
    "\n",
    "dictionary = {'Does not meet the credit policy. Status:Fully Paid':'Fully Paid',\n",
    "             'Does not meet the credit policy. Status:Charged Off':'Charged Off'}\n",
    "\n",
    "df['loan_status'].replace(dictionary,inplace=True)\n",
    "df['loan_status'].value_counts(normalize=True)"
   ]
  },
  {
   "cell_type": "markdown",
   "metadata": {},
   "source": [
    "# Train test split"
   ]
  },
  {
   "cell_type": "code",
   "execution_count": 217,
   "metadata": {},
   "outputs": [],
   "source": [
    "y = df[['loan_status']].values.ravel()\n",
    "X = df.drop('loan_status',axis='columns')\n",
    "\n",
    "X_train, X_test, y_train, y_test = train_test_split(X, y, test_size=0.25, \n",
    "                                            random_state=42, stratify=None)"
   ]
  },
  {
   "cell_type": "markdown",
   "metadata": {},
   "source": [
    "# Label Encoding "
   ]
  },
  {
   "cell_type": "code",
   "execution_count": 218,
   "metadata": {},
   "outputs": [],
   "source": [
    "le = LabelEncoder()\n",
    "le.fit(y_train)\n",
    "y_train = le.transform(y_train)\n",
    "y_test = le.transform(y_test)"
   ]
  },
  {
   "cell_type": "markdown",
   "metadata": {},
   "source": [
    "# Cast encoded labels back to a dataframe object"
   ]
  },
  {
   "cell_type": "code",
   "execution_count": 219,
   "metadata": {},
   "outputs": [],
   "source": [
    "\"\"\"\n",
    "LabelEncoder() output is a numpy array, it's missing the index which is later used for\n",
    "concatanation of categorical, numercial and label data together. The following is a \n",
    "primitive solution but it works and there is no missalignment in the final df.\n",
    "\n",
    "\"\"\"\n",
    "y_train = pd.DataFrame(y_train)\n",
    "y_test = pd.DataFrame(y_test)\n",
    "\n",
    "y_train.columns = ['training labels']\n",
    "y_test.columns = ['testing labels']"
   ]
  },
  {
   "cell_type": "markdown",
   "metadata": {},
   "source": [
    "# Dividing data into categorical and numerical parts"
   ]
  },
  {
   "cell_type": "code",
   "execution_count": 220,
   "metadata": {},
   "outputs": [
    {
     "name": "stdout",
     "output_type": "stream",
     "text": [
      "Numerical part:\n",
      "(979767, 75)\n",
      "(326589, 75)\n",
      "Categorical part:\n",
      "(979767, 16)\n",
      "(326589, 16)\n"
     ]
    }
   ],
   "source": [
    "# dividing training and testing data into categorical and numerical parts\n",
    "nmrcl_X_train = X_train.select_dtypes(exclude=['object'])\n",
    "nmrcl_X_test = X_test.select_dtypes(exclude=['object'])\n",
    "\n",
    "ctgrcl_X_train = X_train.select_dtypes(include=['object'])\n",
    "ctgrcl_X_test = X_test.select_dtypes(include=['object'])\n",
    "\n",
    "\n",
    "print('Numerical part:')\n",
    "print(nmrcl_X_train.shape)\n",
    "print(nmrcl_X_test.shape)\n",
    "print('Categorical part:')\n",
    "print(ctgrcl_X_train.shape)\n",
    "print(ctgrcl_X_test.shape)"
   ]
  },
  {
   "cell_type": "markdown",
   "metadata": {},
   "source": [
    "# Treating numerical data\n",
    "* starting with pd.fillna"
   ]
  },
  {
   "cell_type": "code",
   "execution_count": 221,
   "metadata": {},
   "outputs": [],
   "source": [
    "\"\"\" \n",
    "Training df medians have to be saved as a pd.Series object othervise replace() \n",
    "method does not work when replacing NaN in testing df.\n",
    "\"\"\"\n",
    "\n",
    "training_medians = pd.Series(nmrcl_X_train.median()) # get the training medians \n",
    "\n",
    "nmrcl_X_train = nmrcl_X_train.fillna(training_medians) # fillna first\n",
    "nmrcl_X_test = nmrcl_X_test.fillna(training_medians)\n",
    "\n",
    "nmrcl_X_train = remove_single_unique_value_features(nmrcl_X_train) # remove single unique features\n",
    "nmrcl_X_test = remove_single_unique_value_features(nmrcl_X_test)"
   ]
  },
  {
   "cell_type": "markdown",
   "metadata": {},
   "source": [
    "# Pipelining numerical features treatment\n",
    "* I actually don't know if it's a good idea, but if we pipeline, we decrease the number of points of failure."
   ]
  },
  {
   "cell_type": "code",
   "execution_count": null,
   "metadata": {},
   "outputs": [],
   "source": [
    "# 1.outlier replacement\n",
    "# 2.discretization\n",
    "# 3.scaling\n",
    "\n",
    "capper = outlier_removers.Winsorizer(distribution='skewed', tail='both', fold=1.5)\n",
    "discretizer = KBinsDiscretizer(n_bins=12, encode='ordinal', strategy='kmeans')\n",
    "scaler = MinMaxScaler()\n",
    "\n",
    "numerical_pipeline = Pipeline([('capper',capper),\n",
    "                    ('discretizer',discretizer),\n",
    "                    ('scaler',scaler)])\n",
    "\n",
    "nmrcl_X_train = numerical_pipeline.fit_transform(nmrcl_X_train)\n",
    "nmrcl_X_test = numerical_pipeline.transform(nmrcl_X_test)"
   ]
  },
  {
   "cell_type": "markdown",
   "metadata": {},
   "source": [
    "# Cast produced np.arrays back to pd.DataFrame"
   ]
  },
  {
   "cell_type": "code",
   "execution_count": 223,
   "metadata": {},
   "outputs": [],
   "source": [
    "# this is the way to access names of the columns, it's needed to convert \n",
    "# pipeline-produced np.array back to pd.DataFrame.\n",
    "nmrc_feature_cols = numerical_pipeline.named_steps['capper'].variables\n",
    "\n",
    "nmrcl_X_train = pd.DataFrame(nmrcl_X_train, columns=nmrc_feature_cols)\n",
    "nmrcl_X_test = pd.DataFrame(nmrcl_X_test, columns=nmrc_feature_cols)"
   ]
  },
  {
   "cell_type": "markdown",
   "metadata": {},
   "source": [
    "# Pipelining categorical features treatment"
   ]
  },
  {
   "cell_type": "code",
   "execution_count": 224,
   "metadata": {},
   "outputs": [
    {
     "name": "stderr",
     "output_type": "stream",
     "text": [
      "/Users/babyhandzzz/anaconda3/lib/python3.7/site-packages/pandas/core/frame.py:4153: SettingWithCopyWarning: \n",
      "A value is trying to be set on a copy of a slice from a DataFrame\n",
      "\n",
      "See the caveats in the documentation: https://pandas.pydata.org/pandas-docs/stable/user_guide/indexing.html#returning-a-view-versus-a-copy\n",
      "  downcast=downcast,\n"
     ]
    }
   ],
   "source": [
    "ctgrcl_X_train.fillna('other',inplace=True)\n",
    "ctgrcl_X_test.fillna('other',inplace=True)\n",
    "\n",
    "encoder = RareLabelCategoricalEncoder(tol=0.01)\n",
    "ohe_enc = OneHotCategoricalEncoder(top_categories=None,drop_last=True)\n",
    "\n",
    "categorical_pipeline = Pipeline([('rare_label',encoder),('onehot',ohe_enc)])\n",
    "\n",
    "ctgrcl_X_train = categorical_pipeline.fit_transform(ctgrcl_X_train)\n",
    "ctgrcl_X_test = categorical_pipeline.transform(ctgrcl_X_test)\n",
    "\n",
    "# reseting the index so all the dfs are alinable\n",
    "ctgrcl_X_train.reset_index(drop=True,inplace=True)\n",
    "ctgrcl_X_test.reset_index(drop=True,inplace=True)"
   ]
  },
  {
   "cell_type": "markdown",
   "metadata": {},
   "source": [
    "# Stacking all the dataframes together"
   ]
  },
  {
   "cell_type": "code",
   "execution_count": 210,
   "metadata": {},
   "outputs": [
    {
     "name": "stdout",
     "output_type": "stream",
     "text": [
      "(979767, 174)\n",
      "(326589, 174)\n"
     ]
    }
   ],
   "source": [
    "final_train = pd.concat([nmrcl_X_train,ctgrcl_X_train,y_train],axis=1)\n",
    "final_test = pd.concat([nmrcl_X_test,ctgrcl_X_test,y_test],axis=1)\n",
    "\n",
    "print(final_train.shape)\n",
    "print(final_test.shape)"
   ]
  },
  {
   "cell_type": "code",
   "execution_count": 212,
   "metadata": {},
   "outputs": [],
   "source": [
    "final_train.to_csv('Data/pipeline_K_bins_train.csv')\n",
    "final_test.to_csv('Data/pipeline_K_bins_test.csv')"
   ]
  }
 ],
 "metadata": {
  "kernelspec": {
   "display_name": "Python 3",
   "language": "python",
   "name": "python3"
  },
  "language_info": {
   "codemirror_mode": {
    "name": "ipython",
    "version": 3
   },
   "file_extension": ".py",
   "mimetype": "text/x-python",
   "name": "python",
   "nbconvert_exporter": "python",
   "pygments_lexer": "ipython3",
   "version": "3.7.6"
  }
 },
 "nbformat": 4,
 "nbformat_minor": 4
}
