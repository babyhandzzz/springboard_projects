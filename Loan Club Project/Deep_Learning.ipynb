{
 "cells": [
  {
   "cell_type": "markdown",
   "metadata": {},
   "source": [
    "* Project: Loan Outcome Classification\n",
    "* Author: Dmitri Kochubei\n",
    "* Purpose: Correclty predict outcome of a given loan ('Paid-off'/'Charged-off')\n",
    "* Created: 03.11.2020"
   ]
  },
  {
   "cell_type": "code",
   "execution_count": 402,
   "metadata": {},
   "outputs": [
    {
     "name": "stdout",
     "output_type": "stream",
     "text": [
      "Using matplotlib backend: MacOSX\n"
     ]
    }
   ],
   "source": [
    "import pandas as pd\n",
    "import numpy as np\n",
    "#############\n",
    "from keras.layers import Dense\n",
    "from keras.models import Sequential\n",
    "from keras.utils import to_categorical\n",
    "from keras.models import load_model\n",
    "from keras.optimizers import Adam, SGD\n",
    "from sklearn.preprocessing import LabelEncoder\n",
    "from feature_engine import categorical_encoders as ce\n",
    "#from sklearn.preprocessing import OneHotEncoder\n",
    "\n",
    "from sklearn.metrics import classification_report, accuracy_score, plot_confusion_matrix\n",
    "#############\n",
    "from sklearn.metrics import accuracy_score, plot_confusion_matrix\n",
    "import pickle\n",
    "%matplotlib\n",
    "%matplotlib inline\n",
    "pd.options.display.float_format = '{:.4f}'.format #set it to convert scientific noations such as 4.225108e+11 to 422510842796.00\n",
    "pd.set_option('display.max_columns', 100) #  display all the columns\n",
    "pd.set_option('display.max_rows', 100) # display all the rows\n",
    "np.set_printoptions(suppress=True,formatter={'float_kind':'{:f}'.format})"
   ]
  },
  {
   "cell_type": "markdown",
   "metadata": {},
   "source": [
    "# Loading training data"
   ]
  },
  {
   "cell_type": "code",
   "execution_count": 456,
   "metadata": {},
   "outputs": [],
   "source": [
    "df = pd.read_csv('Data/train.csv')\n",
    "df = df.sample(600000)\n",
    "X_train = df.drop('labels',axis='columns')\n",
    "y_train = df['labels']#.values.ravel()"
   ]
  },
  {
   "cell_type": "markdown",
   "metadata": {},
   "source": [
    "# Loading testing data"
   ]
  },
  {
   "cell_type": "code",
   "execution_count": 457,
   "metadata": {},
   "outputs": [],
   "source": [
    "df = pd.read_csv('Data/test.csv')\n",
    "df = df.sample(100000)\n",
    "X_test = df.drop('labels',axis='columns')\n",
    "y_test = df['labels']#.values.ravel()"
   ]
  },
  {
   "cell_type": "code",
   "execution_count": 349,
   "metadata": {},
   "outputs": [],
   "source": [
    "numerical_cols= X_train.columns[:40]\n",
    "categorical_cols = X_train.columns[40:]"
   ]
  },
  {
   "cell_type": "code",
   "execution_count": 459,
   "metadata": {},
   "outputs": [],
   "source": [
    "X_train = X_train[numerical_cols]\n",
    "X_test = X_test[numerical_cols]"
   ]
  },
  {
   "cell_type": "code",
   "execution_count": 458,
   "metadata": {},
   "outputs": [],
   "source": [
    "y_train = pd.get_dummies(y_train)\n",
    "y_test = pd.get_dummies(y_test)"
   ]
  },
  {
   "cell_type": "code",
   "execution_count": null,
   "metadata": {},
   "outputs": [],
   "source": [
    "n_cols = X_train.shape[1]\n",
    "classifier = Sequential()\n",
    "#First Hidden Layer\n",
    "classifier.add(Dense(200, activation='relu', kernel_initializer='random_normal', \n",
    "                     input_dim=n_cols))#Second  Hidden Layer\n",
    "classifier.add(Dense(200, activation='sigmoid'))#Output Layer\n",
    "classifier.add(Dense(200, activation='sigmoid'))\n",
    "classifier.add(Dense(2, activation='softmax'))\n",
    "classifier.compile(optimizer = 'adam',loss='binary_crossentropy', metrics =['accuracy'])\n",
    "classifier.fit(np.array(X_train),np.array(y_train), batch_size=200, epochs=30)"
   ]
  },
  {
   "cell_type": "code",
   "execution_count": 462,
   "metadata": {},
   "outputs": [],
   "source": [
    "predictions = pd.DataFrame(classifier.predict(X_test))\n",
    "predictions = predictions.idxmax(axis=1)\n",
    "y_test_ohe = y_test.idxmax(axis=1)"
   ]
  }
 ],
 "metadata": {
  "kernelspec": {
   "display_name": "Python 3",
   "language": "python",
   "name": "python3"
  },
  "language_info": {
   "codemirror_mode": {
    "name": "ipython",
    "version": 3
   },
   "file_extension": ".py",
   "mimetype": "text/x-python",
   "name": "python",
   "nbconvert_exporter": "python",
   "pygments_lexer": "ipython3",
   "version": "3.7.6"
  }
 },
 "nbformat": 4,
 "nbformat_minor": 4
}
