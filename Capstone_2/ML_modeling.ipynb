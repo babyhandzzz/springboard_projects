{
 "metadata": {
  "language_info": {
   "codemirror_mode": {
    "name": "ipython",
    "version": 3
   },
   "file_extension": ".py",
   "mimetype": "text/x-python",
   "name": "python",
   "nbconvert_exporter": "python",
   "pygments_lexer": "ipython3",
   "version": "3.7.6-final"
  },
  "orig_nbformat": 2,
  "kernelspec": {
   "name": "python_defaultSpec_1597510051039",
   "display_name": "Python 3.7.6 64-bit ('base': conda)"
  }
 },
 "nbformat": 4,
 "nbformat_minor": 2,
 "cells": [
  {
   "cell_type": "code",
   "execution_count": 2,
   "metadata": {},
   "outputs": [],
   "source": [
    "import pandas as pd\n",
    "import numpy as np\n",
    "import matplotlib.pyplot as plt\n",
    "import string\n",
    "from nltk.corpus import stopwords\n",
    "\n",
    "from sklearn.model_selection import train_test_split, cross_val_score,cross_validate\n",
    "from sklearn.metrics import classification_report\n",
    "from sklearn.metrics import auc, roc_curve\n",
    "from sklearn.model_selection import KFold\n",
    "from sklearn.feature_extraction.text import TfidfVectorizer\n",
    "from sklearn.linear_model import LogisticRegression\n",
    "from sklearn.ensemble import GradientBoostingClassifier, RandomForestClassifier"
   ]
  },
  {
   "cell_type": "code",
   "execution_count": 14,
   "metadata": {},
   "outputs": [],
   "source": [
    "dataset_path = '/Users/babyhandzzz/Desktop/ELEPH@NT/Datasets/imdb_master.csv'"
   ]
  },
  {
   "cell_type": "code",
   "execution_count": 15,
   "metadata": {},
   "outputs": [],
   "source": [
    "# Loading data\n",
    "dataframe = pd.read_csv(dataset_path,encoding='latin1', usecols=['review','label'])\n",
    "dataframe = dataframe.loc[dataframe.label != 'unsup']\n",
    "dataframe.label.replace({'neg':0,'pos':1}, inplace=True)\n",
    "X = dataframe[['review']]\n",
    "y = dataframe[['label']]"
   ]
  },
  {
   "cell_type": "code",
   "execution_count": 26,
   "metadata": {},
   "outputs": [
    {
     "output_type": "execute_result",
     "data": {
      "text/plain": "\"Once again Mr. Costner has dragged out a movie for far longer than necessary. Aside from the terrific sea rescue sequences, of which there are very few I just did not care about any of the characters. Most of us have ghosts in the closet, and Costner's character are realized early on, and then forgotten until much later, by which time I did not care. The character we should really care about is a very cocky, overconfident Ashton Kutcher. The problem is he comes off as kid who thinks he's better than anyone else around him and shows no signs of a cluttered closet. His only obstacle appears to be winning over Costner. Finally when we are well past the half way point of this stinker, Costner tells us all about Kutcher's ghosts. We are told why Kutcher is driven to be the best with no prior inkling or foreshadowing. No magic here, it was all I could do to keep from turning it off an hour in.\""
     },
     "metadata": {},
     "execution_count": 26
    }
   ],
   "source": [
    "dataframe.review[0]"
   ]
  },
  {
   "cell_type": "markdown",
   "metadata": {},
   "source": [
    "# Pre-processing"
   ]
  },
  {
   "cell_type": "code",
   "execution_count": 22,
   "metadata": {},
   "outputs": [],
   "source": [
    "# Text_pre_processing\n",
    "\n",
    "def remove_punct(text):\n",
    "    table = str.maketrans(\"\",\"\", string.punctuation)\n",
    "    return text.translate(table)\n",
    "X.review = X.review.map(lambda x: remove_punct(x))\n",
    "\n",
    "stop = set(stopwords.words('english'))\n",
    "\n",
    "def remove_stopwords(text):\n",
    "    text = [word.lower() for word in text.split() if word.lower() not in stop]\n",
    "    return \" \".join(text)\n",
    "\n",
    "X.review = X.review.map(remove_stopwords)"
   ]
  },
  {
   "cell_type": "code",
   "execution_count": 24,
   "metadata": {},
   "outputs": [
    {
     "output_type": "execute_result",
     "data": {
      "text/plain": "'mr costner dragged movie far longer necessary aside terrific sea rescue sequences care characters us ghosts closet costners character realized early forgotten much later time care character really care cocky overconfident ashton kutcher problem comes kid thinks hes better anyone else around shows signs cluttered closet obstacle appears winning costner finally well past half way point stinker costner tells us kutchers ghosts told kutcher driven best prior inkling foreshadowing magic could keep turning hour'"
     },
     "metadata": {},
     "execution_count": 24
    }
   ],
   "source": [
    "X.review[0]"
   ]
  },
  {
   "cell_type": "markdown",
   "metadata": {},
   "source": [
    "# Performance metrics"
   ]
  },
  {
   "cell_type": "code",
   "execution_count": null,
   "metadata": {},
   "outputs": [],
   "source": [
    "def collect_metrics(model):\n",
    "    predictions = model.predict(X_test_tfidf)\n",
    "    class_report = classification_report(y_test, predictions)\n",
    "    fpr, tpr, thresholds = roc_curve(y_test, predictions)\n",
    "    auc_ = auc(fpr, tpr)\n",
    "    \n",
    "    print(class_report)\n",
    "    print(auc_)"
   ]
  },
  {
   "cell_type": "markdown",
   "metadata": {},
   "source": [
    "# Train/Test split"
   ]
  },
  {
   "cell_type": "code",
   "execution_count": 5,
   "metadata": {},
   "outputs": [],
   "source": [
    "# Train/Test split & reset indices\n",
    "X_train, X_test, y_train, y_test = train_test_split(X, y, test_size=0.3, random_state=16)\n",
    "\n",
    "X_train.reset_index(drop=True,inplace=True)\n",
    "X_test.reset_index(drop=True,inplace=True)\n",
    "y_train.reset_index(drop=True,inplace=True)\n",
    "y_test.reset_index(drop=True,inplace=True)"
   ]
  },
  {
   "cell_type": "code",
   "execution_count": 6,
   "metadata": {},
   "outputs": [],
   "source": [
    "# tfidf transformation -> sparse matrix -> np.array -> pandas df\n",
    "tfidf = TfidfVectorizer(use_idf=True, min_df=10, max_df=1.0)\n",
    "\n",
    "X_train_tfidf = tfidf.fit_transform(X_train.review)\n",
    "X_test_tfidf = tfidf.transform(X_test.review)\n",
    "column_names = tfidf.get_feature_names()\n",
    "\n",
    "X_train_tfidf = X_train_tfidf.toarray()\n",
    "X_test_tfidf = X_test_tfidf.toarray()\n",
    "\n",
    "X_train_tfidf = pd.DataFrame(X_train_tfidf, columns=column_names)\n",
    "X_test_tfidf = pd.DataFrame(X_test_tfidf, columns=column_names)"
   ]
  },
  {
   "cell_type": "code",
   "execution_count": 35,
   "metadata": {},
   "outputs": [],
   "source": [
    "model = LogisticRegression()\n",
    "cvs = cross_val_score(model, X_train_tfidf, y_train, cv=3)\n",
    "print(cvs.mean())"
   ]
  },
  {
   "cell_type": "code",
   "execution_count": 57,
   "metadata": {},
   "outputs": [
    {
     "output_type": "execute_result",
     "data": {
      "text/plain": "LogisticRegression()"
     },
     "metadata": {},
     "execution_count": 57
    }
   ],
   "source": [
    "model.fit(X_train_tfidf, y_train)\n",
    "collect_metrics(model)"
   ]
  },
  {
   "cell_type": "code",
   "execution_count": 9,
   "metadata": {},
   "outputs": [],
   "source": [
    "### cross_validation ###\n",
    "tfidf = TfidfVectorizer(use_idf=True, min_df=10, max_df=1.0)\n",
    "X = tfidf.fit_transform(X.review)\n",
    "column_names = tfidf.get_feature_names()\n",
    "X = X.toarray()\n",
    "X = pd.DataFrame(X, columns=column_names)"
   ]
  },
  {
   "cell_type": "code",
   "execution_count": 12,
   "metadata": {
    "tags": []
   },
   "outputs": [
    {
     "output_type": "stream",
     "name": "stdout",
     "text": "0.880379991104126\n"
    }
   ],
   "source": [
    "model = LogisticRegression()\n",
    "cvs = cross_val_score(model, X, y, cv=3)\n",
    "print(cvs.mean())"
   ]
  }
 ]
}